{
 "cells": [
  {
   "cell_type": "markdown",
   "id": "08dfdd50",
   "metadata": {},
   "source": [
    "## Modules Importing\n",
    "Import all necessary modules and add NCVX src folder to system path."
   ]
  },
  {
   "cell_type": "code",
   "execution_count": 1,
   "id": "90ed32f9",
   "metadata": {},
   "outputs": [],
   "source": [
    "import time\n",
    "import numpy as np\n",
    "import torch\n",
    "import numpy.linalg as la\n",
    "from scipy.stats import norm\n",
    "import sys\n",
    "## Adding NCVX directories. Should be modified by user\n",
    "sys.path.append('/home/buyun/Documents/GitHub/NCVX')\n",
    "from ncvx import ncvx\n",
    "from ncvxStruct import Options, GeneralStruct \n",
    "from sklearn.datasets import make_sparse_coded_signal\n",
    "from sklearn.decomposition import DictionaryLearning"
   ]
  },
  {
   "cell_type": "markdown",
   "id": "17a1b7fe",
   "metadata": {},
   "source": [
    "## Data Generation \n",
    "Specify torch device, and generate data\n",
    "\n",
    "Use GPU for this problem. If no cuda device available, please set *device = torch.device('cpu')*"
   ]
  },
  {
   "cell_type": "code",
   "execution_count": 2,
   "id": "8b4842e1",
   "metadata": {},
   "outputs": [],
   "source": [
    "device = torch.device('cuda')\n",
    "n_features = 10\n",
    "n_samples = 20\n",
    "n_components = 8\n",
    "n_nonzero_coefs = 5\n",
    "\n",
    "X, dictionary, code = make_sparse_coded_signal(\n",
    "    n_samples=n_samples, n_components=n_components, n_features=n_features, n_nonzero_coefs=n_nonzero_coefs,\n",
    "    random_state=6)\n",
    "\n",
    "X = torch.from_numpy(X).to(device=device, dtype=torch.double)\n",
    "# code = torch.from_numpy(code).to(device=device, dtype=torch.double)"
   ]
  },
  {
   "cell_type": "code",
   "execution_count": 3,
   "id": "3065f711",
   "metadata": {},
   "outputs": [],
   "source": [
    "# ce = torch.sum(code**2,dim=0)\n",
    "# print(ce)\n",
    "# ce1 = torch.norm(code,p=2,dim=0)**2\n",
    "# ce1"
   ]
  },
  {
   "cell_type": "markdown",
   "id": "ec80716b",
   "metadata": {},
   "source": [
    "## Problem Definition\n",
    "\n",
    "Specify optimization variables, and objective and constraint(s).\n",
    "\n",
    "Note: please strictly follow the format of comb_fn, which will be used in the NCVX main algortihm."
   ]
  },
  {
   "cell_type": "code",
   "execution_count": 4,
   "id": "fb360e75",
   "metadata": {},
   "outputs": [],
   "source": [
    "# variables and corresponding dimensions.\n",
    "var_in = {\"U\": [n_features,n_components], \"V\": [n_components, n_samples]}\n",
    "alpha = 1.0 # Sparsity controlling parameter.\n",
    "\n",
    "def comb_fn(X_struct):\n",
    "    U = X_struct.U\n",
    "    V = X_struct.V\n",
    "    U.requires_grad_(True)\n",
    "    V.requires_grad_(True)\n",
    "    \n",
    "    # objective function\n",
    "#     f = 0.5 * torch.norm(X-U@V, p='fro') + alpha * torch.norm(U,p=1)\n",
    "    f = 0.5 * torch.norm(X-U@V, p='fro') + alpha * torch.sum(torch.abs(U))\n",
    "\n",
    "    # inequality constraint, matrix form\n",
    "    ci = None\n",
    "\n",
    "    # equality constraint \n",
    "    ce = GeneralStruct()\n",
    "#     ce.c1 = torch.norm(V,p=2,dim=0)-1\n",
    "    # torch norm is less efficient\n",
    "    ce.c1 = torch.sum(V**2,dim=0) - 1\n",
    "\n",
    "    return [f,ci,ce]\n"
   ]
  },
  {
   "cell_type": "markdown",
   "id": "f0f55ace",
   "metadata": {},
   "source": [
    "## User Options\n",
    "Specify user-defined options for NCVX"
   ]
  },
  {
   "cell_type": "code",
   "execution_count": 5,
   "id": "f3a65b57",
   "metadata": {},
   "outputs": [],
   "source": [
    "opts = Options()\n",
    "opts.QPsolver = 'osqp' \n",
    "opts.maxit = 1000\n",
    "np.random.seed(1)\n",
    "x0 = norm.ppf(np.random.rand((n_features+n_samples)*n_components,1))\n",
    "x0 /= la.norm(x0,2)\n",
    "opts.x0 = torch.from_numpy(x0).to(device=device, dtype=torch.double)\n",
    "opts.print_frequency = 10\n",
    "opts.opt_tol = 1e-6"
   ]
  },
  {
   "cell_type": "markdown",
   "id": "8bca18c7",
   "metadata": {},
   "source": [
    "## Main Algorithm"
   ]
  },
  {
   "cell_type": "code",
   "execution_count": 6,
   "id": "632976b3",
   "metadata": {},
   "outputs": [
    {
     "name": "stdout",
     "output_type": "stream",
     "text": [
      "\n",
      "\n",
      "\u001b[33m╔═════ QP SOLVER NOTICE ════════════════════════════════════════════════════════════════════╗\n",
      "\u001b[0m\u001b[33m║  NCVX requires a quadratic program (QP) solver that has a quadprog-compatible interface,  ║\n",
      "\u001b[0m\u001b[33m║  the default is osqp. Users may provide their own wrapper for the QP solver.              ║\n",
      "\u001b[0m\u001b[33m║  To disable this notice, set opts.quadprog_info_msg = False                               ║\n",
      "\u001b[0m\u001b[33m╚═══════════════════════════════════════════════════════════════════════════════════════════╝\n",
      "\u001b[0m═════════════════════════════════════════════════════════════════════════════════════════════════════════════════╗\n",
      "NCVX: A User-Friendly and Scalable Package for Nonconvex Optimization in Machine Learning                        ║ \n",
      "Version 1.1.1                                                                                                    ║ \n",
      "MIT License Copyright (c) 2021 SUN Group @ UMN                                                                   ║ \n",
      "═════════════════════════════════════════════════════════════════════════════════════════════════════════════════╣\n",
      "Problem specifications:                                                                                          ║ \n",
      " # of variables                     :   240                                                                      ║ \n",
      " # of inequality constraints        :     0                                                                      ║ \n",
      " # of equality constraints          :    20                                                                      ║ \n",
      "═════╦═══════════════════════════╦════════════════╦═════════════════╦═══════════════════════╦════════════════════╣\n",
      "     ║ <--- Penalty Function --> ║                ║ Total Violation ║ <--- Line Search ---> ║ <- Stationarity -> ║ \n",
      "Iter ║    Mu    │      Value     ║    Objective   ║ Ineq │    Eq    ║ SD │ Evals │     t    ║ Grads │    Value   ║ \n",
      "═════╬═══════════════════════════╬════════════════╬═════════════════╬═══════════════════════╬════════════════════╣\n",
      "   0 ║ 1.000000 │  28.0349142453 ║  8.71661599285 ║   -  │ 0.984741 ║ -  │     1 │ 0.000000 ║     1 │ 9.095175   ║ \n",
      "  10 ║ 1.000000 │  15.6467939769 ║  6.69586928995 ║   -  │ 0.712379 ║ S  │     3 │ 4.000000 ║     1 │ 0.416363   ║ \n",
      "  20 ║ 0.900000 │  4.72164821340 ║  5.24627556840 ║   -  │ 5.36e-08 ║ S  │     3 │ 0.250000 ║     1 │ 0.286492   ║ \n",
      "  30 ║ 0.900000 │  4.40309834708 ║  4.89233141346 ║   -  │ 1.42e-08 ║ S  │     5 │ 0.062500 ║     1 │ 0.221278   ║ \n",
      "  40 ║ 0.900000 │  4.30388064358 ║  4.78208955554 ║   -  │ 8.27e-09 ║ S  │     5 │ 0.062500 ║     1 │ 0.231704   ║ \n",
      "  50 ║ 0.900000 │  4.27241204989 ║  4.74712446074 ║   -  │ 6.73e-09 ║ S  │     8 │ 0.007812 ║     1 │ 0.168778   ║ \n",
      "  60 ║ 0.900000 │  4.25932434464 ║  4.73258257140 ║   -  │ 5.79e-09 ║ S  │     8 │ 0.007812 ║     1 │ 0.146370   ║ \n",
      "  70 ║ 0.900000 │  4.24930493459 ║  4.72144989960 ║   -  │ 4.75e-09 ║ S  │     6 │ 0.031250 ║     1 │ 0.138089   ║ \n",
      "  80 ║ 0.900000 │  4.23735941729 ║  4.70817710596 ║   -  │ 4.17e-09 ║ S  │     8 │ 0.007812 ║     1 │ 0.099909   ║ \n",
      "  90 ║ 0.900000 │  4.23079526637 ║  4.70088360809 ║   -  │ 3.62e-09 ║ S  │     7 │ 0.015625 ║     1 │ 0.122303   ║ \n",
      " 100 ║ 0.900000 │  4.22626260418 ║  4.69584732024 ║   -  │ 3.03e-09 ║ S  │     6 │ 0.031250 ║     1 │ 0.083755   ║ \n",
      " 110 ║ 0.900000 │  4.22275577140 ║  4.69195084224 ║   -  │ 2.54e-09 ║ S  │     9 │ 0.003906 ║     1 │ 0.026556   ║ \n",
      " 120 ║ 0.900000 │  4.21994377867 ║  4.68882641107 ║   -  │ 1.65e-09 ║ S  │     5 │ 0.062500 ║     1 │ 0.020949   ║ \n",
      " 130 ║ 0.900000 │  4.21782387138 ║  4.68647096221 ║   -  │ 1.02e-09 ║ S  │     5 │ 0.062500 ║     1 │ 0.007207   ║ \n",
      " 140 ║ 0.900000 │  4.21673707728 ║  4.68526341532 ║   -  │ 6.63e-10 ║ S  │     6 │ 0.031250 ║     2 │ 0.001221   ║ \n",
      " 150 ║ 0.900000 │  4.21637949981 ║  4.68486610829 ║   -  │ 4.45e-10 ║ S  │     5 │ 0.062500 ║     2 │ 8.74e-04   ║ \n",
      " 160 ║ 0.900000 │  4.21612275745 ║  4.68458083981 ║   -  │ 3.08e-10 ║ S  │     6 │ 0.031250 ║     4 │ 3.63e-04   ║ \n",
      " 170 ║ 0.900000 │  4.21598735759 ║  4.68443039594 ║   -  │ 2.35e-10 ║ S  │     7 │ 0.015625 ║     7 │ 2.97e-04   ║ \n",
      " 180 ║ 0.900000 │  4.21594320613 ║  4.68438133908 ║   -  │ 1.82e-10 ║ S  │     7 │ 0.015625 ║     9 │ 1.70e-04   ║ \n",
      " 190 ║ 0.900000 │  4.21586810306 ║  4.68429789145 ║   -  │ 1.44e-10 ║ S  │     7 │ 0.015625 ║    13 │ 1.44e-04   ║ \n",
      "═════╬═══════════════════════════╬════════════════╬═════════════════╬═══════════════════════╬════════════════════╣\n",
      "     ║ <--- Penalty Function --> ║                ║ Total Violation ║ <--- Line Search ---> ║ <- Stationarity -> ║ \n",
      "Iter ║    Mu    │      Value     ║    Objective   ║ Ineq │    Eq    ║ SD │ Evals │     t    ║ Grads │    Value   ║ \n",
      "═════╬═══════════════════════════╬════════════════╬═════════════════╬═══════════════════════╬════════════════════╣\n",
      " 200 ║ 0.900000 │  4.21583857177 ║  4.68426507906 ║   -  │ 1.16e-10 ║ S  │     7 │ 0.015625 ║    18 │ 5.91e-05   ║ \n",
      " 210 ║ 0.900000 │  4.21581967301 ║  4.68424408055 ║   -  │ 9.69e-11 ║ S  │     8 │ 0.007812 ║    26 │ 1.68e-05   ║ \n",
      " 220 ║ 0.900000 │  4.21580968336 ║  4.68423298105 ║   -  │ 7.96e-11 ║ S  │     6 │ 0.031250 ║    34 │ 6.58e-06   ║ \n",
      " 230 ║ 0.900000 │  4.21580195886 ║  4.68422439839 ║   -  │ 5.88e-11 ║ S  │     7 │ 0.015625 ║    41 │ 6.17e-06   ║ \n",
      " 240 ║ 0.900000 │  4.21579685100 ║  4.68421872306 ║   -  │ 4.63e-11 ║ S  │     7 │ 0.015625 ║    50 │ 3.44e-06   ║ \n",
      "═════╩═══════════════════════════╩════════════════╩═════════════════╩═══════════════════════╩════════════════════╣\n",
      "Optimization results:                                                                                            ║ \n",
      "F = final iterate, B = Best (to tolerance), MF = Most Feasible                                                   ║ \n",
      "═════╦═══════════════════════════╦════════════════╦═════════════════╦═══════════════════════╦════════════════════╣\n",
      "   F ║          │                ║  4.68421705401 ║   -  │ 4.01e-11 ║    │       │          ║       │            ║ \n",
      "   B ║          │                ║  4.68421705401 ║   -  │ 4.01e-11 ║    │       │          ║       │            ║ \n",
      "  MF ║          │                ║  4.68447267013 ║   -  │ 2.64e-14 ║    │       │          ║       │            ║ \n",
      "═════╩═══════════════════════════╩════════════════╩═════════════════╩═══════════════════════╩════════════════════╣\n",
      "Iterations:              245                                                                                     ║ \n",
      "Function evaluations:    1462                                                                                    ║ \n",
      "NCVX termination code: 0 --- converged to stationarity and feasibility tolerances.                               ║ \n",
      "═════════════════════════════════════════════════════════════════════════════════════════════════════════════════╝\n",
      "Total Wall Time: 28.669630527496338s\n",
      "tensor([0.7984], device='cuda:0', dtype=torch.float64)\n"
     ]
    }
   ],
   "source": [
    "start = time.time()\n",
    "soln = ncvx(combinedFunction = comb_fn,var_dim_map = var_in, torch_device = device, user_opts = opts)\n",
    "end = time.time()\n",
    "print(\"Total Wall Time: {}s\".format(end - start))\n",
    "print(max(abs(soln.final.x))) # should be close to 1"
   ]
  }
 ],
 "metadata": {
  "kernelspec": {
   "display_name": "Python 3 (ipykernel)",
   "language": "python",
   "name": "python3"
  },
  "language_info": {
   "codemirror_mode": {
    "name": "ipython",
    "version": 3
   },
   "file_extension": ".py",
   "mimetype": "text/x-python",
   "name": "python",
   "nbconvert_exporter": "python",
   "pygments_lexer": "ipython3",
   "version": "3.9.7"
  }
 },
 "nbformat": 4,
 "nbformat_minor": 5
}
