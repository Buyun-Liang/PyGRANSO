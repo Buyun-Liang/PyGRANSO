{
 "cells": [
  {
   "cell_type": "code",
   "execution_count": 1,
   "id": "5a2660de",
   "metadata": {},
   "outputs": [],
   "source": [
    "import torch\n",
    "import torchvision\n",
    "import torchvision.transforms as transforms"
   ]
  },
  {
   "cell_type": "code",
   "execution_count": 2,
   "id": "a8bc3f81",
   "metadata": {},
   "outputs": [],
   "source": [
    "import torch.nn as nn\n",
    "import torch.nn.functional as F\n",
    "\n",
    "\n",
    "class Net(nn.Module):\n",
    "     def __init__(self):\n",
    "         super().__init__()\n",
    "         self.conv1 = nn.Conv2d(3, 6, 5)\n",
    "         self.conv1_bn = nn.BatchNorm2d(6)\n",
    "         self.pool = nn.MaxPool2d(2, 2)\n",
    "         self.conv2 = nn.Conv2d(6, 8, 9)\n",
    "         self.conv2_bn = nn.BatchNorm2d(8)\n",
    "         self.fc1 = nn.Linear(8 * 3 * 3, 30)\n",
    "         self.fc1_bn = nn.BatchNorm1d(30)\n",
    "         self.fc2 = nn.Linear(30, 20)\n",
    "         self.fc2_bn = nn.BatchNorm1d(20)\n",
    "         self.fc3 = nn.Linear(20, 10)\n",
    "\n",
    "     def forward(self, x):\n",
    "         x = self.pool(F.elu( self.conv1_bn(self.conv1(x))  ))\n",
    "         x = self.pool(F.elu( self.conv2_bn(self.conv2(x))  ))\n",
    "         x = torch.flatten(x, 1) # flatten all dimensions except batch\n",
    "         x = F.elu( self.fc1_bn(self.fc1(x)) )\n",
    "         x = F.elu( self.fc2_bn(self.fc2(x)) )\n",
    "         x = self.fc3(x)\n",
    "         return x\n",
    "\n",
    "# fix model parameters\n",
    "torch.manual_seed(0)\n",
    "\n",
    "\n",
    "net = Net()"
   ]
  },
  {
   "cell_type": "code",
   "execution_count": null,
   "id": "8ded48f2",
   "metadata": {},
   "outputs": [],
   "source": []
  },
  {
   "cell_type": "code",
   "execution_count": 3,
   "id": "9499bdba",
   "metadata": {},
   "outputs": [
    {
     "name": "stdout",
     "output_type": "stream",
     "text": [
      "Files already downloaded and verified\n"
     ]
    }
   ],
   "source": [
    "transform = transforms.Compose([transforms.ToTensor(),transforms.Normalize((0.5, 0.5, 0.5), (0.5, 0.5, 0.5))])\n",
    "batch_size = 1000\n",
    "trainset = torchvision.datasets.CIFAR10(root='/home/buyun/Documents/GitHub/PyGRANSO/examples', train=True, download=True, transform=transform)\n",
    "\n",
    "trainloader = torch.utils.data.DataLoader(trainset, batch_size=batch_size, shuffle=False, num_workers=2)\n",
    "# data_in\n",
    "for i, data in enumerate(trainloader, 0):        \n",
    "    if i >= 1:\n",
    "         break   \n",
    "    # get the inputs; data is a list of [inputs, labels]\n",
    "    inputs, labels = data\n",
    "\n"
   ]
  },
  {
   "cell_type": "code",
   "execution_count": 4,
   "id": "54b69ba7",
   "metadata": {
    "scrolled": true
   },
   "outputs": [
    {
     "name": "stderr",
     "output_type": "stream",
     "text": [
      "/home/buyun/anaconda3/envs/cuosqp_pygranso/lib/python3.9/site-packages/torch/nn/functional.py:718: UserWarning: Named tensors and all their associated APIs are an experimental feature and subject to change. Please do not use them for anything important until they are released as stable. (Triggered internally at  /opt/conda/conda-bld/pytorch_1623448255797/work/c10/core/TensorImpl.h:1156.)\n",
      "  return torch.max_pool2d(input, kernel_size, stride, padding, dilation, ceil_mode)\n"
     ]
    },
    {
     "name": "stdout",
     "output_type": "stream",
     "text": [
      "2.3954172134399414\n",
      "1.352547526359558\n",
      "0.6083256006240845\n",
      "0.0171643178910017\n",
      "1.9431095665822795e-07\n",
      "1.2159345530449173e-08\n",
      "1.2159345530449173e-08\n",
      "1.2159345530449173e-08\n",
      "1.2159345530449173e-08\n",
      "1.2159345530449173e-08\n",
      "1.2159345530449173e-08\n",
      "1.2159345530449173e-08\n",
      "1.2159345530449173e-08\n",
      "1.2159345530449173e-08\n",
      "1.2159345530449173e-08\n",
      "1.2159345530449173e-08\n",
      "1.2159345530449173e-08\n",
      "1.2159345530449173e-08\n",
      "1.2159345530449173e-08\n",
      "1.2159345530449173e-08\n"
     ]
    }
   ],
   "source": [
    "import torch.optim as optim\n",
    "\n",
    "criterion = nn.CrossEntropyLoss()\n",
    "# optimizer = optim.SGD(net.parameters(), lr=0.001, momentum=0.9)\n",
    "# optimizer = torch.optim.LBFGS(net.parameters(), lr=1, max_iter=20, max_eval=None, tolerance_grad=1e-07, tolerance_change=1e-09, history_size=100, line_search_fn=None)\n",
    "# optimizer = torch.optim.LBFGS(net.parameters(), lr=0.01, max_iter=20, max_eval=None, tolerance_grad=1e-07, tolerance_change=1e-09, history_size=100, line_search_fn=\"strong_wolfe\")\n",
    "optimizer = torch.optim.LBFGS(net.parameters(), lr=1, max_iter=20, max_eval=None, tolerance_grad=1e-07, tolerance_change=1e-09, history_size=100, line_search_fn=\"strong_wolfe\")\n",
    "\n",
    "\n",
    "\n",
    "for i in range(20):\n",
    "#     # zero the parameter gradients\n",
    "#     optimizer.zero_grad()\n",
    "\n",
    "#     # forward + backward + optimize\n",
    "#     outputs = net(inputs)\n",
    "#     loss = criterion(outputs, labels)\n",
    "\n",
    "#     loss.backward()\n",
    "#     optimizer.step(lambda : loss)\n",
    "\n",
    "    def closure():\n",
    "        optimizer.zero_grad()\n",
    "        outputs = net(inputs)\n",
    "        loss = criterion(outputs, labels)\n",
    "        loss.backward()\n",
    "        return loss\n",
    "    \n",
    "    loss = optimizer.step(closure)\n",
    "\n",
    "    if i % 1 == 0:\n",
    "        print(loss.item())"
   ]
  },
  {
   "cell_type": "code",
   "execution_count": 5,
   "id": "ba5a4ab4",
   "metadata": {},
   "outputs": [
    {
     "name": "stdout",
     "output_type": "stream",
     "text": [
      "Train acc = 1.0\n"
     ]
    }
   ],
   "source": [
    "outputs = net(inputs)\n",
    "acc = (outputs.max(1)[1] == labels).sum().item()/labels.size(0)\n",
    "print(\"Train acc = {}\".format(acc))"
   ]
  }
 ],
 "metadata": {
  "kernelspec": {
   "display_name": "Python 3 (ipykernel)",
   "language": "python",
   "name": "python3"
  },
  "language_info": {
   "codemirror_mode": {
    "name": "ipython",
    "version": 3
   },
   "file_extension": ".py",
   "mimetype": "text/x-python",
   "name": "python",
   "nbconvert_exporter": "python",
   "pygments_lexer": "ipython3",
   "version": "3.9.7"
  }
 },
 "nbformat": 4,
 "nbformat_minor": 5
}
