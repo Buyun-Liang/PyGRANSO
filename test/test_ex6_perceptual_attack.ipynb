{
 "cells": [
  {
   "cell_type": "markdown",
   "id": "5257bb27",
   "metadata": {},
   "source": [
    "# Perceptual Attack\n",
    "\n",
    "Apply neural perceptual attack to images taken from: Cassidy Laidlaw, Sahil Singla, and Soheil Feizi. [\"Perceptual adversarial robustness: Defense against unseen threat models.\"](https://arxiv.org/abs/2006.12655) arXiv preprint arXiv:2006.12655 (2020)."
   ]
  },
  {
   "cell_type": "markdown",
   "id": "4364b1e6",
   "metadata": {},
   "source": [
    "## Problem Description"
   ]
  },
  {
   "cell_type": "markdown",
   "id": "344f7377",
   "metadata": {},
   "source": [
    "Given a classifier $f$ which maps any input image $x \\in X$ to its label $y = f(x) \\in Y$. The goal of neural perceptual attack is to find an input $\\widetilde{x}$ that is perceptually similar to the original input $x$ but can fool the classifier $f$. This can be formulated as:\n",
    "\n",
    "$$\\max_{\\widetilde{x}} L (f(\\widetilde{x}),y),$$\n",
    "$$\\text{s.t.}\\;\\; d(x,\\widetilde{x}) = ||\\phi(x) - \\phi (\\tilde{x}) ||_{2} \\leq \\epsilon$$\n",
    "Here $$L (f({x}),y) = \\max_{i\\neq y} (z_i(x) - z_y(x) ),$$\n",
    "where $z_i(x)$ is the $i$-th logit output of $f(x)$, and $\\phi(\\cdot)$ is a function that maps the input $x$ to  normalized, flattened activations"
   ]
  },
  {
   "cell_type": "markdown",
   "id": "08dfdd50",
   "metadata": {},
   "source": [
    "## Modules Importing\n",
    "Import all necessary modules and add PyGRANSO src folder to system path. \n",
    "\n",
    "NOTE: the perceptual advex package (https://github.com/cassidylaidlaw/perceptual-advex.git) is required to calculate the distance "
   ]
  },
  {
   "cell_type": "code",
   "execution_count": 1,
   "id": "23c19f28",
   "metadata": {},
   "outputs": [],
   "source": [
    "# install required package\n",
    "try:\n",
    "    import perceptual_advex\n",
    "except ImportError:\n",
    "    !pip install perceptual-advex"
   ]
  },
  {
   "cell_type": "code",
   "execution_count": 2,
   "id": "90ed32f9",
   "metadata": {},
   "outputs": [],
   "source": [
    "import time\n",
    "import torch\n",
    "import sys\n",
    "## Adding PyGRANSO directories. Should be modified by user\n",
    "sys.path.append('/home/buyun/Documents/GitHub/PyGRANSO')\n",
    "from pygranso import pygranso\n",
    "from pygransoStruct import pygransoStruct\n",
    "from private.getNvar import getNvarTorch\n",
    "\n",
    "sys.path.append('/home/buyun/Documents/GitHub/perceptual-advex')\n",
    "from perceptual_advex.utilities import get_dataset_model\n",
    "from perceptual_advex.perceptual_attacks import get_lpips_model\n",
    "from perceptual_advex.distances import normalize_flatten_features"
   ]
  },
  {
   "cell_type": "markdown",
   "id": "4d0c82d9",
   "metadata": {},
   "source": [
    "## Download Pretrained Model"
   ]
  },
  {
   "cell_type": "code",
   "execution_count": 3,
   "id": "beedb704",
   "metadata": {},
   "outputs": [
    {
     "name": "stdout",
     "output_type": "stream",
     "text": [
      "  % Total    % Received % Xferd  Average Speed   Time    Time     Time  Current\n",
      "                                 Dload  Upload   Total   Spent    Left  Speed\n",
      "100  179M  100  179M    0     0  7990k      0  0:00:23  0:00:23 --:--:-- 9063k   0     0  7046k      0  0:00:26  0:00:12  0:00:14 7964k\n"
     ]
    }
   ],
   "source": [
    "import os\n",
    "\n",
    "# Download ResNet model\n",
    "if not os.path.exists('data/checkpoints/cifar_pgd_l2_1.pt'):\n",
    "    !mkdir -p data/checkpoints\n",
    "    !curl -o data/checkpoints/cifar_pgd_l2_1.pt https://perceptual-advex.s3.us-east-2.amazonaws.com/cifar_pgd_l2_1_cpu.pt"
   ]
  },
  {
   "cell_type": "markdown",
   "id": "17a1b7fe",
   "metadata": {},
   "source": [
    "## Data Initialization \n",
    "\n",
    "Specify torch device, neural network architecture, and generate data.\n",
    "\n",
    "NOTE: please specify path for downloading data.\n",
    "\n",
    "Use GPU for this problem. If no cuda device available, please set *device = torch.device('cpu')*"
   ]
  },
  {
   "cell_type": "code",
   "execution_count": 4,
   "id": "8b4842e1",
   "metadata": {},
   "outputs": [
    {
     "name": "stdout",
     "output_type": "stream",
     "text": [
      "=> loading checkpoint '/home/buyun/Documents/GitHub/PyGRANSO/examples/data/checkpoints/cifar_pgd_l2_1.pt'\n",
      "==> Preparing dataset cifar..\n",
      "Files already downloaded and verified\n"
     ]
    }
   ],
   "source": [
    "device = torch.device('cuda')\n",
    "\n",
    "dataset, model = get_dataset_model(\n",
    "dataset='cifar',\n",
    "arch='resnet50',\n",
    "checkpoint_fname='/home/buyun/Documents/GitHub/PyGRANSO/examples/data/checkpoints/cifar_pgd_l2_1.pt',\n",
    ")\n",
    "model = model.to(device=device, dtype=torch.double)\n",
    "# Create a validation set loader.\n",
    "batch_size = 1\n",
    "_, val_loader = dataset.make_loaders(1, batch_size, only_val=True, shuffle_val=False)\n",
    "\n",
    "inputs, labels = next(iter(val_loader))\n",
    "\n",
    "# All the user-provided data (vector/matrix/tensor) must be in torch tensor format. \n",
    "# As PyTorch tensor is single precision by default, one must explicitly set `dtype=torch.double`.\n",
    "# Also, please make sure the device of provided torch tensor is the same as opts.torch_device.\n",
    "inputs = inputs.to(device=device, dtype=torch.double)\n",
    "labels = labels.to(device=device)\n",
    "\n",
    "# externally-bounded attack: AlexNet for constraint while ResNet for objective\n",
    "lpips_model = get_lpips_model('alexnet_cifar', model).to(device=device, dtype=torch.double)\n",
    "\n",
    "# Don't reccoment use in the current version. self-bounded attack: AlexNet for both constraint and objective\n",
    "model = get_lpips_model('alexnet_cifar', model).to(device=device, dtype=torch.double)\n",
    "\n",
    "# attack_type = 'L_2'\n",
    "# attack_type = 'L_inf'\n",
    "attack_type = 'Perceptual'"
   ]
  },
  {
   "cell_type": "markdown",
   "id": "ec80716b",
   "metadata": {},
   "source": [
    "## Function Set-Up\n",
    "\n",
    "Encode the optimization variables, and objective and constraint functions.\n",
    "\n",
    "Note: please strictly follow the format of comb_fn, which will be used in the PyGRANSO main algortihm."
   ]
  },
  {
   "cell_type": "code",
   "execution_count": 5,
   "id": "fb360e75",
   "metadata": {},
   "outputs": [],
   "source": [
    "# variables and corresponding dimensions.\n",
    "var_in = {\"x_tilde\": list(inputs.shape)}\n",
    "\n",
    "def MarginLoss(logits,labels):\n",
    "    correct_logits = torch.gather(logits, 1, labels.view(-1, 1))\n",
    "    max_2_logits, argmax_2_logits = torch.topk(logits, 2, dim=1)\n",
    "    top_max, second_max = max_2_logits.chunk(2, dim=1)\n",
    "    top_argmax, _ = argmax_2_logits.chunk(2, dim=1)\n",
    "    labels_eq_max = top_argmax.squeeze().eq(labels).float().view(-1, 1)\n",
    "    labels_ne_max = top_argmax.squeeze().ne(labels).float().view(-1, 1)\n",
    "    max_incorrect_logits = labels_eq_max * second_max + labels_ne_max * top_max\n",
    "    loss = -(max_incorrect_logits - correct_logits).clamp(max=1).squeeze().sum()\n",
    "    return loss\n",
    "\n",
    "def user_fn(X_struct,inputs,labels,lpips_model,model):\n",
    "    adv_inputs = X_struct.x_tilde\n",
    "    \n",
    "    # objective function\n",
    "    # 8/255 for L_inf, 1 for L_2, 0.5 for PPGD/LPA\n",
    "    if attack_type == 'L_2':\n",
    "        epsilon = 1\n",
    "    elif attack_type == 'L_inf':\n",
    "        epsilon = 8/255\n",
    "    else:\n",
    "        epsilon = 0.5\n",
    "\n",
    "    logits_outputs = model(adv_inputs)\n",
    "\n",
    "    f = MarginLoss(logits_outputs,labels)\n",
    "\n",
    "    # inequality constraint\n",
    "    ci = pygransoStruct()\n",
    "    if attack_type == 'L_2':\n",
    "        ci.c1 = torch.norm((inputs - adv_inputs).reshape(inputs.size()[0], -1)) - epsilon\n",
    "    elif attack_type == 'L_inf':\n",
    "        ci.c1 = torch.norm((inputs - adv_inputs).reshape(inputs.size()[0], -1), float('inf')) - epsilon\n",
    "    else:\n",
    "        input_features = normalize_flatten_features( lpips_model.features(inputs)).detach()\n",
    "        adv_features = lpips_model.features(adv_inputs)\n",
    "        adv_features = normalize_flatten_features(adv_features)\n",
    "        lpips_dists = (adv_features - input_features).norm(dim=1)\n",
    "        ci.c1 = lpips_dists - epsilon\n",
    "    \n",
    "    # equality constraint \n",
    "    ce = None\n",
    "\n",
    "    return [f,ci,ce]\n",
    "\n",
    "comb_fn = lambda X_struct : user_fn(X_struct,inputs,labels,lpips_model,model)"
   ]
  },
  {
   "cell_type": "markdown",
   "id": "f0f55ace",
   "metadata": {},
   "source": [
    "## User Options\n",
    "Specify user-defined options for PyGRANSO "
   ]
  },
  {
   "cell_type": "code",
   "execution_count": 8,
   "id": "f3a65b57",
   "metadata": {},
   "outputs": [],
   "source": [
    "opts = pygransoStruct()\n",
    "opts.torch_device = device\n",
    "opts.maxit = 1000\n",
    "opts.opt_tol = 1e-6\n",
    "opts.print_frequency = 10\n",
    "opts.x0 = torch.reshape(inputs,(torch.numel(inputs),1))"
   ]
  },
  {
   "cell_type": "markdown",
   "id": "8bca18c7",
   "metadata": {},
   "source": [
    "## Main Algorithm"
   ]
  },
  {
   "cell_type": "code",
   "execution_count": 9,
   "id": "632976b3",
   "metadata": {},
   "outputs": [
    {
     "name": "stdout",
     "output_type": "stream",
     "text": [
      "\n",
      "\n",
      "\u001b[33m╔═════ QP SOLVER NOTICE ════════════════════════════════════════════════════════════════════════╗\n",
      "\u001b[0m\u001b[33m║  PyGRANSO requires a quadratic program (QP) solver that has a quadprog-compatible interface,  ║\n",
      "\u001b[0m\u001b[33m║  the default is osqp. Users may provide their own wrapper for the QP solver.                  ║\n",
      "\u001b[0m\u001b[33m║  To disable this notice, set opts.quadprog_info_msg = False                                   ║\n",
      "\u001b[0m\u001b[33m╚═══════════════════════════════════════════════════════════════════════════════════════════════╝\n",
      "\u001b[0m═════════════════════════════════════════════════════════════════════════════════════════════════════════════════╗\n",
      "PyGRANSO: A PyTorch-enabled port of GRANSO with auto-differentiation                                             ║ \n",
      "Version 1.0.0                                                                                                    ║ \n",
      "Licensed under the AGPLv3, Copyright (C) 2021 Tim Mitchell and Buyun Liang                                       ║ \n",
      "═════════════════════════════════════════════════════════════════════════════════════════════════════════════════╣\n",
      "Problem specifications:                                                                                          ║ \n",
      " # of variables                     :   3072                                                                     ║ \n",
      " # of inequality constraints        :      1                                                                     ║ \n",
      " # of equality constraints          :      0                                                                     ║ \n",
      "═════╦═══════════════════════════╦════════════════╦═════════════════╦═══════════════════════╦════════════════════╣\n",
      "     ║ <--- Penalty Function --> ║                ║ Total Violation ║ <--- Line Search ---> ║ <- Stationarity -> ║ \n",
      "Iter ║    Mu    │      Value     ║    Objective   ║   Ineq   │  Eq  ║ SD │ Evals │     t    ║ Grads │    Value   ║ \n",
      "═════╬═══════════════════════════╬════════════════╬═════════════════╬═══════════════════════╬════════════════════╣\n",
      "   0 ║ 1.000000 │  4.22293461659 ║  4.22293461659 ║ 0.000000 │   -  ║ -  │     1 │ 0.000000 ║     1 │ 16.23626   ║ \n",
      "  10 ║ 0.900000 │  0.71445762632 ║ -1.00000000000 ║ 1.614458 │   -  ║ S  │     2 │ 2.000000 ║     1 │ 0.436020   ║ \n",
      "  20 ║ 0.282430 │  1.15450629961 ║ -0.98795420238 ║ 1.433534 │   -  ║ S  │     4 │ 0.125000 ║     1 │ 8.694497   ║ \n",
      "  30 ║ 0.185302 │  1.11505026502 ║ -0.86794706932 ║ 1.275883 │   -  ║ S  │     2 │ 0.500000 ║     1 │ 1.115212   ║ \n",
      "  40 ║ 0.071790 │  1.09571917562 ║ -0.95273530361 ║ 1.164116 │   -  ║ S  │     2 │ 2.000000 ║     1 │ 0.370984   ║ \n",
      "  50 ║ 0.071790 │  0.98667595753 ║ -0.83695064076 ║ 1.046760 │   -  ║ S  │     1 │ 1.000000 ║     1 │ 0.956340   ║ \n",
      "  60 ║ 0.064611 │  0.91350784851 ║ -0.93562029068 ║ 0.973959 │   -  ║ S  │     3 │ 0.250000 ║     1 │ 0.507706   ║ \n",
      "  70 ║ 0.058150 │  0.86397101922 ║ -0.96315789560 ║ 0.919978 │   -  ║ S  │     2 │ 2.000000 ║     1 │ 0.509307   ║ \n",
      "  80 ║ 0.038152 │  0.82803554261 ║ -0.61454023574 ║ 0.851482 │   -  ║ S  │     2 │ 2.000000 ║     1 │ 0.268481   ║ \n",
      "  90 ║ 0.025032 │  0.72570416544 ║  2.95217234979 ║ 0.651807 │   -  ║ S  │     1 │ 1.000000 ║     1 │ 0.312159   ║ \n",
      " 100 ║ 0.020276 │  0.62034722970 ║  3.24173505169 ║ 0.554619 │   -  ║ S  │     1 │ 1.000000 ║     1 │ 0.990953   ║ \n",
      " 110 ║ 0.018248 │  0.54420543062 ║  4.37644028936 ║ 0.464344 │   -  ║ S  │     1 │ 1.000000 ║     1 │ 0.487828   ║ \n",
      " 120 ║ 0.018248 │  0.48644210027 ║  4.80734661115 ║ 0.398718 │   -  ║ S  │     1 │ 1.000000 ║     1 │ 0.729052   ║ \n",
      " 130 ║ 0.018248 │  0.43290751872 ║  4.64391051555 ║ 0.348165 │   -  ║ S  │     1 │ 1.000000 ║     1 │ 0.286408   ║ \n",
      " 140 ║ 0.018248 │  0.38147559663 ║  4.84645424793 ║ 0.293037 │   -  ║ S  │     1 │ 1.000000 ║     1 │ 0.505775   ║ \n",
      " 150 ║ 0.018248 │  0.33478482041 ║  4.94144919223 ║ 0.244613 │   -  ║ S  │     1 │ 1.000000 ║     1 │ 0.371756   ║ \n",
      " 160 ║ 0.018248 │  0.29115680640 ║  4.67075389755 ║ 0.205925 │   -  ║ S  │     1 │ 1.000000 ║     1 │ 0.499960   ║ \n",
      " 170 ║ 0.018248 │  0.25276035308 ║  4.86128320370 ║ 0.164052 │   -  ║ S  │     1 │ 1.000000 ║     1 │ 0.571183   ║ \n",
      " 180 ║ 0.018248 │  0.21633167365 ║  4.82809527024 ║ 0.128229 │   -  ║ S  │     1 │ 1.000000 ║     1 │ 0.611582   ║ \n",
      " 190 ║ 0.018248 │  0.17580347835 ║  4.79024362675 ║ 0.088391 │   -  ║ S  │     2 │ 0.500000 ║     1 │ 0.473059   ║ \n",
      "═════╬═══════════════════════════╬════════════════╬═════════════════╬═══════════════════════╬════════════════════╣\n",
      "     ║ <--- Penalty Function --> ║                ║ Total Violation ║ <--- Line Search ---> ║ <- Stationarity -> ║ \n",
      "Iter ║    Mu    │      Value     ║    Objective   ║   Ineq   │  Eq  ║ SD │ Evals │     t    ║ Grads │    Value   ║ \n",
      "═════╬═══════════════════════════╬════════════════╬═════════════════╬═══════════════════════╬════════════════════╣\n",
      " 200 ║ 0.018248 │  0.13806533547 ║  4.81322803849 ║ 0.050234 │   -  ║ S  │     1 │ 1.000000 ║     1 │ 0.850356   ║ \n",
      " 210 ║ 0.018248 │  0.09377021297 ║  4.39498694677 ║ 0.013570 │   -  ║ S  │     1 │ 1.000000 ║     1 │ 0.344857   ║ \n",
      " 220 ║ 0.018248 │  0.06861365635 ║  3.56321543780 ║ 0.003592 │   -  ║ S  │     1 │ 1.000000 ║     1 │ 0.123945   ║ \n",
      " 230 ║ 0.018248 │  0.06041745145 ║  3.12909091404 ║ 0.003318 │   -  ║ S  │     3 │ 0.250000 ║     1 │ 0.245636   ║ \n",
      " 240 ║ 0.018248 │  0.05471779393 ║  2.83983950373 ║ 0.002896 │   -  ║ S  │     4 │ 0.125000 ║     1 │ 0.511186   ║ \n",
      " 250 ║ 0.018248 │  0.05125737564 ║  2.58141688996 ║ 0.004152 │   -  ║ S  │     2 │ 0.500000 ║     1 │ 0.138512   ║ \n",
      " 260 ║ 0.018248 │  0.04588446296 ║  2.50879533158 ║ 1.04e-04 │   -  ║ S  │     4 │ 0.125000 ║     1 │ 0.104239   ║ \n",
      " 270 ║ 0.018248 │  0.04474869589 ║  2.44088710620 ║ 2.07e-04 │   -  ║ S  │     4 │ 0.125000 ║     1 │ 0.080143   ║ \n",
      " 280 ║ 0.018248 │  0.04379074000 ║  2.39600331580 ║ 6.85e-05 │   -  ║ S  │     5 │ 0.187500 ║     1 │ 1.427312   ║ \n",
      " 290 ║ 0.009698 │  0.02311417310 ║  2.36475698396 ║ 1.81e-04 │   -  ║ S  │     8 │ 0.007812 ║     1 │ 0.532912   ║ \n",
      " 300 ║ 0.009698 │  0.02298609048 ║  2.33753720814 ║ 3.17e-04 │   -  ║ S  │     8 │ 0.007812 ║     1 │ 0.309655   ║ \n",
      " 310 ║ 0.009698 │  0.02260817596 ║  2.30479430090 ║ 2.57e-04 │   -  ║ S  │     4 │ 0.375000 ║     1 │ 0.134818   ║ \n",
      " 320 ║ 0.001797 │  0.00417142259 ║  2.28767621616 ║ 6.04e-05 │   -  ║ S  │     9 │ 0.003906 ║     1 │ 0.040507   ║ \n",
      " 330 ║ 9.55e-04 │  0.00222974348 ║  2.28130707398 ║ 5.11e-05 │   -  ║ S  │     3 │ 1.500000 ║     1 │ 0.004462   ║ \n",
      " 340 ║ 3.33e-04 │  7.5085414e-04 ║  2.25378017801 ║ 3.69e-07 │   -  ║ \u001b[33mSI\u001b[0m │     1 │ 1.000000 ║     1 │ 0.023889   ║ \n",
      " 350 ║ 4.05e-05 │  9.1119678e-05 ║  2.25074113327 ║ 1.20e-09 │   -  ║ S  │     4 │ 0.125000 ║     3 │ 5.69e-04   ║ \n",
      "═════╩═══════════════════════════╩════════════════╩═════════════════╩═══════════════════════╩════════════════════╣\n",
      "F = final iterate, B = Best (to tolerance), MF = Most Feasible                                                   ║ \n",
      "Optimization results:                                                                                            ║ \n",
      "═════╦═══════════════════════════╦════════════════╦═════════════════╦═══════════════════════╦════════════════════╣\n",
      "   F ║          │                ║  2.25069910831 ║ 1.66e-09 │   -  ║    │       │          ║       │            ║ \n",
      "   B ║          │                ║  2.25042999545 ║ 5.17e-07 │   -  ║    │       │          ║       │            ║ \n",
      "  MF ║          │                ║  2.25076707776 ║ 0.000000 │   -  ║    │       │          ║       │            ║ \n",
      "═════╩═══════════════════════════╩════════════════╩═════════════════╩═══════════════════════╩════════════════════╣\n",
      "Iterations:              357                                                                                     ║ \n",
      "Function evaluations:    1042                                                                                    ║ \n",
      "PyGRANSO termination code: 6 --- line search bracketed a minimizer but failed to satisfy Wolfe conditions at a   ║ \n",
      "feasible point (to tolerances).  This may be an indication that approximate stationarity has been attained.      ║ \n",
      "═════════════════════════════════════════════════════════════════════════════════════════════════════════════════╝\n",
      "Total Wall Time: 24.004199981689453s\n"
     ]
    }
   ],
   "source": [
    "start = time.time()\n",
    "soln = pygranso(var_spec = var_in,combined_fn = comb_fn,user_opts = opts)\n",
    "end = time.time()\n",
    "print(\"Total Wall Time: {}s\".format(end - start))"
   ]
  }
 ],
 "metadata": {
  "kernelspec": {
   "display_name": "Python 3 (ipykernel)",
   "language": "python",
   "name": "python3"
  },
  "language_info": {
   "codemirror_mode": {
    "name": "ipython",
    "version": 3
   },
   "file_extension": ".py",
   "mimetype": "text/x-python",
   "name": "python",
   "nbconvert_exporter": "python",
   "pygments_lexer": "ipython3",
   "version": "3.9.7"
  }
 },
 "nbformat": 4,
 "nbformat_minor": 5
}
