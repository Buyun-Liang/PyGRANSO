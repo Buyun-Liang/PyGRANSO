{
 "cells": [
  {
   "cell_type": "markdown",
   "id": "5257bb27",
   "metadata": {},
   "source": [
    "# Getting started with Dictionary Learning\n",
    "\n",
    "This notebook contains examples of how to solve orthogonal dictionary learning problem.\n",
    "\n",
    "For more details, please check the documentation website https://pygranso.readthedocs.io/en/latest/"
   ]
  },
  {
   "cell_type": "markdown",
   "id": "08dfdd50",
   "metadata": {},
   "source": [
    "1. Import all necessary modules and add PyGRANSO src folder to system path."
   ]
  },
  {
   "cell_type": "code",
   "execution_count": 1,
   "id": "90ed32f9",
   "metadata": {},
   "outputs": [],
   "source": [
    "import time\n",
    "import numpy as np\n",
    "import torch\n",
    "import numpy.linalg as la\n",
    "from scipy.stats import norm\n",
    "import sys\n",
    "## Adding PyGRANSO directories. Should be modified by user\n",
    "sys.path.append('/home/buyun/Documents/GitHub/PyGRANSO')\n",
    "from pygranso import pygranso\n",
    "from pygransoStruct import Options, Data, GeneralStruct "
   ]
  },
  {
   "cell_type": "markdown",
   "id": "17a1b7fe",
   "metadata": {},
   "source": [
    "2. Specify torch device, and generate data"
   ]
  },
  {
   "cell_type": "code",
   "execution_count": 2,
   "id": "8b4842e1",
   "metadata": {},
   "outputs": [],
   "source": [
    "device = torch.device('cuda')\n",
    "n = 30\n",
    "\n",
    "np.random.seed(1)\n",
    "# data_in\n",
    "data_in = Data()\n",
    "m = 10*n**2   # sample complexity\n",
    "theta = 0.3   # sparsity level\n",
    "Y = norm.ppf(np.random.rand(n,m)) * (norm.ppf(np.random.rand(n,m)) <= theta)  # Bernoulli-Gaussian model\n",
    "Y = torch.from_numpy(Y).to(device=device, dtype=torch.double)"
   ]
  },
  {
   "cell_type": "markdown",
   "id": "ec80716b",
   "metadata": {},
   "source": [
    "3. Spceify optimization variables and corresponding objective and constrained function.\n",
    "\n",
    "Note: please strictly follow the format of evalObjFunction and combinedFunction, which will be used in the PyGRANSO main algortihm. *X_struct* and *data_in* are always required."
   ]
  },
  {
   "cell_type": "code",
   "execution_count": 3,
   "id": "fb360e75",
   "metadata": {},
   "outputs": [],
   "source": [
    "# variables and corresponding dimensions.\n",
    "var_in = {\"q\": [n,1]}\n",
    "\n",
    "\n",
    "def evalObjFunction(X_struct,data_in = None):\n",
    "    q = X_struct.q\n",
    "    q.requires_grad_(True)\n",
    "    \n",
    "    # objective function\n",
    "    qtY = q.t() @ Y\n",
    "    f = 1/m * torch.norm(qtY, p = 1)\n",
    "    return f\n",
    "\n",
    "def combinedFunction(X_struct,data_in = None):\n",
    "    q = X_struct.q\n",
    "    q.requires_grad_(True)\n",
    "    \n",
    "    # objective function\n",
    "    qtY = q.t() @ Y\n",
    "    f = 1/m * torch.norm(qtY, p = 1)\n",
    "\n",
    "    # inequality constraint, matrix form\n",
    "    ci = None\n",
    "\n",
    "    # equality constraint \n",
    "    ce = GeneralStruct()\n",
    "    ce.c1 = q.t() @ q - 1\n",
    "\n",
    "    return [f,ci,ce]\n",
    "\n",
    "obj_eval_fn = lambda X_struct,data_in = None : evalObjFunction(X_struct,data_in = None)\n",
    "comb_fn = lambda X_struct,data_in = None : combinedFunction(X_struct,data_in = None)"
   ]
  },
  {
   "cell_type": "markdown",
   "id": "f0f55ace",
   "metadata": {},
   "source": [
    "4. Specify user-defined options for PyGRANSO algorithm"
   ]
  },
  {
   "cell_type": "code",
   "execution_count": 4,
   "id": "f3a65b57",
   "metadata": {},
   "outputs": [],
   "source": [
    "opts = Options()\n",
    "opts.QPsolver = 'osqp' \n",
    "opts.maxit = 500\n",
    "x0 = norm.ppf(np.random.rand(n,1))\n",
    "x0 /= la.norm(x0,2)\n",
    "opts.x0 = torch.from_numpy(x0).to(device=device, dtype=torch.double)\n",
    "# opts.opt_tol = 1e-6\n",
    "# opts.fvalquit = 1e-6\n",
    "# opts.print_level = 1\n",
    "opts.print_frequency = 10\n",
    "# opts.print_ascii = True"
   ]
  },
  {
   "cell_type": "markdown",
   "id": "8bca18c7",
   "metadata": {},
   "source": [
    "4. Run main algorithm"
   ]
  },
  {
   "cell_type": "code",
   "execution_count": 5,
   "id": "632976b3",
   "metadata": {},
   "outputs": [
    {
     "name": "stdout",
     "output_type": "stream",
     "text": [
      "\n",
      "\n",
      "\u001b[33m╔═════ QP SOLVER NOTICE ══════════════════════════════════════════════════════════════╗\n",
      "\u001b[0m\u001b[33m║  PyGRANSO requires a quadratic program (QP) solver that has a quadprog-compatible   ║\n",
      "\u001b[0m\u001b[33m║  interface, as defined by osqp and Gurobi...                                        ║\n",
      "\u001b[0m\u001b[33m╚═════════════════════════════════════════════════════════════════════════════════════╝\n",
      "\u001b[0m═════════════════════════════════════════════════════════════════════════════════════════════════════════════════╗\n",
      "Problem specifications:                                                                                          ║ \n",
      " # of variables                     :   30                                                                       ║ \n",
      " # of inequality constraints        :    0                                                                       ║ \n",
      " # of equality constraints          :    1                                                                       ║ \n",
      "═════╦═══════════════════════════╦════════════════╦═════════════════╦═══════════════════════╦════════════════════╣\n",
      "     ║ <--- Penalty Function --> ║                ║ Total Violation ║ <--- Line Search ---> ║ <- Stationarity -> ║ \n",
      "Iter ║    Mu    │      Value     ║    Objective   ║ Ineq │    Eq    ║ SD │ Evals │     t    ║ Grads │    Value   ║ \n",
      "═════╬═══════════════════════════╬════════════════╬═════════════════╬═══════════════════════╬════════════════════╣\n",
      "   0 ║ 1.000000 │  0.61326609638 ║  0.61326609638 ║   -  │ 0.000000 ║ -  │     1 │ 0.000000 ║     1 │ 0.051286   ║ \n",
      "  10 ║ 1.000000 │  0.59977908594 ║  0.59900312146 ║   -  │ 7.76e-04 ║ S  │     1 │ 1.000000 ║     1 │ 0.027336   ║ \n"
     ]
    },
    {
     "name": "stderr",
     "output_type": "stream",
     "text": [
      "/home/buyun/anaconda3/envs/cuosqp_pygranso/lib/python3.9/site-packages/osqp/utils.py:122: UserWarning: Converting sparse A to a CSC (compressed sparse column) matrix. (It may take a while...)\n",
      "  warn(\"Converting sparse A to a CSC \" +\n"
     ]
    },
    {
     "name": "stdout",
     "output_type": "stream",
     "text": [
      "  20 ║ 1.000000 │  0.56954089844 ║  0.56715684330 ║   -  │ 0.002384 ║ S  │     1 │ 1.000000 ║     1 │ 0.052213   ║ \n",
      "  30 ║ 1.000000 │  0.49831354891 ║  0.49809841990 ║   -  │ 2.15e-04 ║ S  │     2 │ 0.500000 ║     1 │ 0.060126   ║ \n",
      "  40 ║ 1.000000 │  0.49647014551 ║  0.49639000250 ║   -  │ 8.01e-05 ║ S  │     3 │ 0.250000 ║     1 │ 0.066361   ║ \n",
      "  50 ║ 1.000000 │  0.49621088442 ║  0.49616684496 ║   -  │ 4.40e-05 ║ S  │     7 │ 0.015625 ║     1 │ 0.035920   ║ \n",
      "  60 ║ 1.000000 │  0.49614852900 ║  0.49611868341 ║   -  │ 2.98e-05 ║ S  │     4 │ 0.125000 ║     1 │ 0.053879   ║ \n",
      "  70 ║ 1.000000 │  0.49609734060 ║  0.49608064651 ║   -  │ 1.67e-05 ║ S  │     5 │ 0.062500 ║     1 │ 0.035289   ║ \n",
      "  80 ║ 1.000000 │  0.49605615563 ║  0.49605445840 ║   -  │ 1.70e-06 ║ S  │     3 │ 0.250000 ║     1 │ 4.82e-04   ║ \n",
      "  90 ║ 1.000000 │  0.49604762008 ║  0.49604703924 ║   -  │ 5.81e-07 ║ S  │     4 │ 0.125000 ║     1 │ 2.27e-04   ║ \n",
      " 100 ║ 1.000000 │  0.49604548758 ║  0.49604529936 ║   -  │ 1.88e-07 ║ S  │     5 │ 0.062500 ║     1 │ 7.32e-05   ║ \n",
      " 110 ║ 1.000000 │  0.49604479255 ║  0.49604469120 ║   -  │ 1.01e-07 ║ S  │     5 │ 0.062500 ║     1 │ 5.21e-05   ║ \n",
      " 120 ║ 1.000000 │  0.49604449819 ║  0.49604446246 ║   -  │ 3.57e-08 ║ S  │     4 │ 0.125000 ║     1 │ 1.85e-05   ║ \n",
      " 130 ║ 1.000000 │  0.49604434107 ║  0.49604433100 ║   -  │ 1.01e-08 ║ S  │     4 │ 0.125000 ║     1 │ 6.76e-06   ║ \n",
      " 140 ║ 1.000000 │  0.49604430452 ║  0.49604429992 ║   -  │ 4.60e-09 ║ S  │     4 │ 0.125000 ║     1 │ 1.72e-06   ║ \n",
      " 150 ║ 1.000000 │  0.49604428912 ║  0.49604428741 ║   -  │ 1.71e-09 ║ S  │     5 │ 0.062500 ║     1 │ 8.09e-07   ║ \n",
      " 160 ║ 1.000000 │  0.49604428462 ║  0.49604428366 ║   -  │ 9.54e-10 ║ S  │     6 │ 0.031250 ║     1 │ 3.55e-07   ║ \n",
      " 170 ║ 1.000000 │  0.49604428209 ║  0.49604428167 ║   -  │ 4.20e-10 ║ S  │     5 │ 0.062500 ║     1 │ 8.72e-08   ║ \n",
      " 180 ║ 1.000000 │  0.49604428139 ║  0.49604428129 ║   -  │ 1.02e-10 ║ S  │     4 │ 0.125000 ║     1 │ 3.34e-08   ║ \n",
      "═════╩═══════════════════════════╩════════════════╩═════════════════╩═══════════════════════╩════════════════════╣\n",
      "F = final iterate, B = Best (to tolerance), MF = Most Feasible                                                   ║ \n",
      "Optimization results:                                                                                            ║ \n",
      "═════╦═══════════════════════════╦════════════════╦═════════════════╦═══════════════════════╦════════════════════╣\n",
      "   F ║          │                ║  0.49604428102 ║   -  │ 3.45e-11 ║    │       │          ║       │            ║ \n",
      "   B ║          │                ║  0.49604428102 ║   -  │ 3.45e-11 ║    │       │          ║       │            ║ \n",
      "  MF ║          │                ║  0.49604428236 ║   -  │ 0.000000 ║    │       │          ║       │            ║ \n",
      "═════╩═══════════════════════════╩════════════════╩═════════════════╩═══════════════════════╩════════════════════╣\n",
      "Iterations:              189                                                                                     ║ \n",
      "Function evaluations:    794                                                                                     ║ \n",
      "PyGRANSO termination code: 0 --- converged to stationarity and feasibility tolerances.                           ║ \n",
      "═════════════════════════════════════════════════════════════════════════════════════════════════════════════════╝\n",
      "Total Wall Time: 4.042958498001099s\n",
      "tensor([1.0000], device='cuda:0', dtype=torch.float64)\n"
     ]
    }
   ],
   "source": [
    "start = time.time()\n",
    "soln = pygranso(combinedFunction = comb_fn, objEvalFunction = obj_eval_fn,var_dim_map = var_in, torch_device = device, user_opts = opts)\n",
    "end = time.time()\n",
    "print(\"Total Wall Time: {}s\".format(end - start))\n",
    "print(max(abs(soln.final.x))) # should be close to 1"
   ]
  }
 ],
 "metadata": {
  "kernelspec": {
   "display_name": "Python 3 (ipykernel)",
   "language": "python",
   "name": "python3"
  },
  "language_info": {
   "codemirror_mode": {
    "name": "ipython",
    "version": 3
   },
   "file_extension": ".py",
   "mimetype": "text/x-python",
   "name": "python",
   "nbconvert_exporter": "python",
   "pygments_lexer": "ipython3",
   "version": "3.9.7"
  }
 },
 "nbformat": 4,
 "nbformat_minor": 5
}
