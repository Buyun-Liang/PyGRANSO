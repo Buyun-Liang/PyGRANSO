{
 "cells": [
  {
   "cell_type": "markdown",
   "id": "5257bb27",
   "metadata": {},
   "source": [
    "# Getting started with Spectral Radius Optimization\n",
    "\n",
    "This notebook contains examples of how to solve Spectral Radius Optimization problem.\n",
    "\n",
    "For more details, please check the documentation website https://pygranso.readthedocs.io/en/latest/"
   ]
  },
  {
   "cell_type": "markdown",
   "id": "08dfdd50",
   "metadata": {},
   "source": [
    "1. Import all necessary modules and add PyGRANSO src folder to system path."
   ]
  },
  {
   "cell_type": "code",
   "execution_count": 1,
   "id": "90ed32f9",
   "metadata": {},
   "outputs": [],
   "source": [
    "import time\n",
    "import torch\n",
    "import os,sys\n",
    "## Adding PyGRANSO directories. Should be modified by user\n",
    "sys.path.append('/home/buyun/Documents/GitHub/PyGRANSO')\n",
    "from pygranso import pygranso\n",
    "from pygransoStruct import Options, Data, GeneralStruct \n",
    "import scipy.io\n",
    "from torch import linalg as LA"
   ]
  },
  {
   "cell_type": "markdown",
   "id": "17a1b7fe",
   "metadata": {},
   "source": [
    "2. Specify torch device, and read the data from provided file"
   ]
  },
  {
   "cell_type": "code",
   "execution_count": 2,
   "id": "8b4842e1",
   "metadata": {},
   "outputs": [],
   "source": [
    "device = torch.device('cpu')\n",
    "\n",
    "# currentdir = os.path.dirname(os.path.realpath(__file__))\n",
    "file = \"/home/buyun/Documents/GitHub/PyGRANSO/examples/spec_radius_opt_data.mat\"\n",
    "mat = scipy.io.loadmat(file)\n",
    "mat_struct = mat['sys']\n",
    "mat_struct = mat_struct[0,0]\n",
    "A = torch.from_numpy(mat_struct['A']).to(device=device, dtype=torch.double)\n",
    "B = torch.from_numpy(mat_struct['B']).to(device=device, dtype=torch.double)\n",
    "C = torch.from_numpy(mat_struct['C']).to(device=device, dtype=torch.double)\n",
    "p = B.shape[1]\n",
    "m = C.shape[0]\n",
    "stability_margin = 1"
   ]
  },
  {
   "cell_type": "markdown",
   "id": "ec80716b",
   "metadata": {},
   "source": [
    "3. Spceify optimization variables and corresponding objective and constrained function.\n",
    "\n",
    "Note: please strictly follow the format of evalObjFunction and combinedFunction, which will be used in the PyGRANSO main algortihm. *X_struct* and *data_in* are always required."
   ]
  },
  {
   "cell_type": "code",
   "execution_count": 3,
   "id": "fb360e75",
   "metadata": {},
   "outputs": [],
   "source": [
    "# variables and corresponding dimensions.\n",
    "var_in = {\"X\": [p,m] }\n",
    "\n",
    "\n",
    "def evalObjFunction(X_struct,data_in = None):\n",
    "    # user defined variable, matirx form. torch tensor\n",
    "    X = X_struct.X\n",
    "    X.requires_grad_(True)\n",
    "\n",
    "    # objective function\n",
    "    M           = A + B@X@C\n",
    "    [D,_]       = LA.eig(M)\n",
    "    f = torch.max(D.imag)\n",
    "    return f\n",
    "\n",
    "def combinedFunction(X_struct,data_in = None):\n",
    "    # user defined variable, matirx form. torch tensor\n",
    "    X = X_struct.X\n",
    "    X.requires_grad_(True)\n",
    "\n",
    "    # objective function\n",
    "    M           = A + B@X@C\n",
    "    [D,_]       = LA.eig(M)\n",
    "    f = torch.max(D.imag)\n",
    "\n",
    "    # inequality constraint, matrix form\n",
    "    ci = GeneralStruct()\n",
    "    ci.c1 = torch.max(D.real) + stability_margin\n",
    "\n",
    "    # equality constraint \n",
    "    ce = None\n",
    "    \n",
    "    return [f,ci,ce]\n",
    "\n",
    "obj_eval_fn = lambda X_struct,data_in = None : evalObjFunction(X_struct,data_in = None)\n",
    "comb_fn = lambda X_struct,data_in = None : combinedFunction(X_struct,data_in = None)"
   ]
  },
  {
   "cell_type": "markdown",
   "id": "f0f55ace",
   "metadata": {},
   "source": [
    "4. Specify user-defined options for PyGRANSO algorithm"
   ]
  },
  {
   "cell_type": "code",
   "execution_count": 4,
   "id": "f3a65b57",
   "metadata": {},
   "outputs": [],
   "source": [
    "opts = Options()\n",
    "opts.QPsolver = 'osqp' \n",
    "opts.maxit = 200\n",
    "opts.x0 = torch.zeros(p*m,1).to(device=device, dtype=torch.double)\n",
    "opts.print_level = 1\n",
    "opts.print_frequency = 10\n",
    "opts.limited_mem_size = 40"
   ]
  },
  {
   "cell_type": "markdown",
   "id": "8bca18c7",
   "metadata": {},
   "source": [
    "4. Run main algorithm"
   ]
  },
  {
   "cell_type": "code",
   "execution_count": 5,
   "id": "632976b3",
   "metadata": {},
   "outputs": [
    {
     "name": "stderr",
     "output_type": "stream",
     "text": [
      "/home/buyun/anaconda3/envs/cuosqp_pygranso/lib/python3.9/site-packages/torch/autograd/__init__.py:147: UserWarning: CUDA initialization: CUDA unknown error - this may be due to an incorrectly set up environment, e.g. changing env variable CUDA_VISIBLE_DEVICES after program start. Setting the available devices to be zero. (Triggered internally at  /opt/conda/conda-bld/pytorch_1623448255797/work/c10/cuda/CUDAFunctions.cpp:115.)\n",
      "  Variable._execution_engine.run_backward(\n",
      "/home/buyun/anaconda3/envs/cuosqp_pygranso/lib/python3.9/site-packages/osqp/utils.py:122: UserWarning: Converting sparse A to a CSC (compressed sparse column) matrix. (It may take a while...)\n",
      "  warn(\"Converting sparse A to a CSC \" +\n"
     ]
    },
    {
     "name": "stdout",
     "output_type": "stream",
     "text": [
      "\n",
      "\n",
      "\u001b[33m╔═════ QP SOLVER NOTICE ══════════════════════════════════════════════════════════════╗\n",
      "\u001b[0m\u001b[33m║  PyGRANSO requires a quadratic program (QP) solver that has a quadprog-compatible   ║\n",
      "\u001b[0m\u001b[33m║  interface, as defined by osqp and Gurobi...                                        ║\n",
      "\u001b[0m\u001b[33m╚═════════════════════════════════════════════════════════════════════════════════════╝\n",
      "\u001b[0m═════════════════════════════════════════════════════════════════════════════════════════════════════════════════╗\n",
      "Problem specifications:                                                                                          ║ \n",
      " # of variables                     :   200                                                                      ║ \n",
      " # of inequality constraints        :     1                                                                      ║ \n",
      " # of equality constraints          :     0                                                                      ║ \n",
      "═════════════════════════════════════════════════════════════════════════════════════════════════════════════════╣\n",
      "\u001b[33mLimited-memory mode enabled with size = 40.                                                                     \u001b[0m ║ \n",
      "\u001b[33mNOTE: limited-memory mode is generally NOT                                                                      \u001b[0m ║ \n",
      "\u001b[33mrecommended for nonsmooth problems.                                                                             \u001b[0m ║ \n",
      "═════╦═══════════════════════════╦════════════════╦═════════════════╦═══════════════════════╦════════════════════╣\n",
      "     ║ <--- Penalty Function --> ║                ║ Total Violation ║ <--- Line Search ---> ║ <- Stationarity -> ║ \n",
      "Iter ║    Mu    │      Value     ║    Objective   ║   Ineq   │  Eq  ║ SD │ Evals │     t    ║ Grads │    Value   ║ \n",
      "═════╬═══════════════════════════╬════════════════╬═════════════════╬═══════════════════════╬════════════════════╣\n",
      "   0 ║ 1.000000 │  16.2063030241 ║  13.7635444107 ║ 2.442759 │   -  ║ -  │     1 │ 0.000000 ║     1 │ 28.28938   ║ \n",
      "  10 ║ 1.000000 │  14.3591757195 ║  12.9268140265 ║ 1.432362 │   -  ║ S  │     1 │ 1.000000 ║     1 │ 0.035480   ║ \n",
      "  20 ║ 1.000000 │  13.7133936808 ║  12.6565244609 ║ 1.056869 │   -  ║ S  │     2 │ 0.500000 ║     1 │ 0.040012   ║ \n",
      "  30 ║ 1.000000 │  12.9789072641 ║  12.2675927981 ║ 0.711314 │   -  ║ S  │     5 │ 0.062500 ║     1 │ 0.045344   ║ \n",
      "  40 ║ 1.000000 │  12.6494706126 ║  12.0975247690 ║ 0.551946 │   -  ║ S  │     4 │ 0.125000 ║     1 │ 0.028873   ║ \n"
     ]
    },
    {
     "name": "stderr",
     "output_type": "stream",
     "text": [
      "/home/buyun/Documents/GitHub/PyGRANSO/private/bfgsHessianInverseLimitedMem.py:106: UserWarning: To copy construct from a tensor, it is recommended to use sourceTensor.clone().detach() or sourceTensor.clone().detach().requires_grad_(True), rather than torch.tensor(sourceTensor).\n",
      "  self.rho = torch.hstack((self.rho[:,1:], torch.tensor(rho_new)))\n"
     ]
    },
    {
     "name": "stdout",
     "output_type": "stream",
     "text": [
      "  50 ║ 1.000000 │  12.4390566671 ║  11.9740978429 ║ 0.464959 │   -  ║ S  │     5 │ 0.062500 ║     1 │ 0.056390   ║ \n",
      "  60 ║ 0.900000 │  11.0818212983 ║  11.9436807004 ║ 0.332509 │   -  ║ S  │     5 │ 0.062500 ║     1 │ 0.026745   ║ \n",
      "  70 ║ 0.729000 │  8.88435648229 ║  11.8258869667 ║ 0.263285 │   -  ║ S  │     4 │ 0.125000 ║     1 │ 0.192494   ║ \n",
      "  80 ║ 0.729000 │  8.76098876216 ║  11.7289106462 ║ 0.210613 │   -  ║ S  │     7 │ 0.015625 ║     1 │ 0.060382   ║ \n",
      "  90 ║ 0.729000 │  8.72408094526 ║  11.7028130102 ║ 0.192730 │   -  ║ S  │     8 │ 0.007812 ║     1 │ 0.108132   ║ \n",
      " 100 ║ 0.729000 │  8.67882291586 ║  11.6772329705 ║ 0.166120 │   -  ║ S  │     9 │ 0.003906 ║     1 │ 0.548152   ║ \n",
      " 110 ║ 0.729000 │  8.64383040019 ║  11.6616361053 ║ 0.142498 │   -  ║ S  │    11 │ 9.77e-04 ║     1 │ 1.491162   ║ \n",
      " 120 ║ 0.656100 │  7.75190289655 ║  11.6443673345 ║ 0.112033 │   -  ║ S  │    19 │ 3.81e-06 ║     1 │ 1.175629   ║ \n",
      " 130 ║ 0.531441 │  6.27872545056 ║  11.6323402041 ║ 0.096823 │   -  ║ S  │     7 │ 0.015625 ║     1 │ 2.555801   ║ \n",
      " 140 ║ 0.531441 │  6.26113126290 ║  11.6189555221 ║ 0.086342 │   -  ║ S  │    14 │ 0.002808 ║     1 │ 1.912230   ║ \n",
      " 150 ║ 0.531441 │  6.22883463022 ║  11.6166756398 ║ 0.055257 │   -  ║ S  │     9 │ 0.003906 ║     1 │ 0.299892   ║ \n",
      " 160 ║ 0.478297 │  5.59797868651 ║  11.5992689496 ║ 0.050084 │   -  ║ S  │    16 │ 3.05e-05 ║     1 │ 17.03740   ║ \n",
      " 170 ║ 0.478297 │  5.57962638372 ║  11.5946139287 ║ 0.033958 │   -  ║ S  │     7 │ 0.015625 ║     1 │ 2.077110   ║ \n",
      " 180 ║ 0.430467 │  5.00733928251 ║  11.5790879186 ║ 0.022922 │   -  ║ S  │     9 │ 0.003906 ║     1 │ 0.439444   ║ \n",
      " 190 ║ 0.430467 │  4.98903451693 ║  11.5813667667 ║ 0.003636 │   -  ║ S  │    10 │ 0.001953 ║     1 │ 7.256716   ║ \n",
      "═════╬═══════════════════════════╬════════════════╬═════════════════╬═══════════════════════╬════════════════════╣\n",
      "     ║ <--- Penalty Function --> ║                ║ Total Violation ║ <--- Line Search ---> ║ <- Stationarity -> ║ \n",
      "Iter ║    Mu    │      Value     ║    Objective   ║   Ineq   │  Eq  ║ SD │ Evals │     t    ║ Grads │    Value   ║ \n",
      "═════╬═══════════════════════════╬════════════════╬═════════════════╬═══════════════════════╬════════════════════╣\n",
      " 200 ║ 0.430467 │  4.97920080365 ║  11.5669688375 ║ 0.000000 │   -  ║ S  │     9 │ 0.003906 ║     1 │ 38.15288   ║ \n",
      "═════╩═══════════════════════════╩════════════════╩═════════════════╩═══════════════════════╩════════════════════╣\n",
      "Optimization results:                                                                                            ║ \n",
      "F = final iterate, B = Best (to tolerance), MF = Most Feasible                                                   ║ \n",
      "═════╦═══════════════════════════╦════════════════╦═════════════════╦═══════════════════════╦════════════════════╣\n",
      "   F ║          │                ║  11.5669688375 ║ 0.000000 │   -  ║    │       │          ║       │            ║ \n",
      "   B ║          │                ║  11.5669688375 ║ 0.000000 │   -  ║    │       │          ║       │            ║ \n",
      "  MF ║          │                ║  11.5669688375 ║ 0.000000 │   -  ║    │       │          ║       │            ║ \n",
      "═════╩═══════════════════════════╩════════════════╩═════════════════╩═══════════════════════╩════════════════════╣\n",
      "Iterations:              200                                                                                     ║ \n",
      "Function evaluations:    1722                                                                                    ║ \n",
      "PyGRANSO termination code: 4 --- max iterations reached.                                                         ║ \n",
      "═════════════════════════════════════════════════════════════════════════════════════════════════════════════════╝\n",
      "Total Wall Time: 70.08997964859009s\n"
     ]
    }
   ],
   "source": [
    "start = time.time()\n",
    "soln = pygranso(combinedFunction = comb_fn, objEvalFunction = obj_eval_fn,var_dim_map = var_in, torch_device = device, user_opts = opts)\n",
    "end = time.time()\n",
    "print(\"Total Wall Time: {}s\".format(end - start))"
   ]
  }
 ],
 "metadata": {
  "kernelspec": {
   "display_name": "Python 3 (ipykernel)",
   "language": "python",
   "name": "python3"
  },
  "language_info": {
   "codemirror_mode": {
    "name": "ipython",
    "version": 3
   },
   "file_extension": ".py",
   "mimetype": "text/x-python",
   "name": "python",
   "nbconvert_exporter": "python",
   "pygments_lexer": "ipython3",
   "version": "3.9.7"
  }
 },
 "nbformat": 4,
 "nbformat_minor": 5
}
