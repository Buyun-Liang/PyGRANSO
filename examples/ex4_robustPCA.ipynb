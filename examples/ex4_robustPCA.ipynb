{
 "cells": [
  {
   "cell_type": "markdown",
   "id": "5257bb27",
   "metadata": {},
   "source": [
    "# Robust PCA\n",
    "\n",
    "    Solve the robust PCA problem taken from Yi, Xinyang, et al. \"Fast algorithms for robust PCA via gradient\n",
    "    descent.\" Advances in neural information processing systems. 2016.\n"
   ]
  },
  {
   "cell_type": "markdown",
   "id": "31341f5c",
   "metadata": {},
   "source": [
    "    If you publish work that uses or refers to PyGRANSO, please cite both\n",
    "    PyGRANSO and GRANSO paper:\n",
    "\n",
    "    [1] Buyun Liang, Tim Mitchell, and Ju Sun,\n",
    "        NCVX: A User-Friendly and Scalable Package for Nonconvex\n",
    "        Optimization in Machine Learning, arXiv preprint arXiv:2111.13984 (2021).\n",
    "        Available at https://arxiv.org/abs/2111.13984\n",
    "\n",
    "    [2] Frank E. Curtis, Tim Mitchell, and Michael L. Overton,\n",
    "        A BFGS-SQP method for nonsmooth, nonconvex, constrained\n",
    "        optimization and its evaluation using relative minimization\n",
    "        profiles, Optimization Methods and Software, 32(1):148-181, 2017.\n",
    "        Available at https://dx.doi.org/10.1080/10556788.2016.1208749\n",
    "\n",
    "    ex4_robustPCA.ipynb (introduced in PyGRANSO v1.0.0)\n",
    "    Copyright (C) 2021 Buyun Liang\n",
    "\n",
    "    New code and functionality for PyGRANSO v1.0.0.\n",
    "\n",
    "    For comments/bug reports, please visit the PyGRANSO webpage:\n",
    "    https://github.com/sun-umn/PyGRANSO\n",
    "\n",
    "    PyGRANSO Version 1.0.0, 2021, see AGPL license info below.\n",
    "\n",
    "    =========================================================================\n",
    "    |  PyGRANSO: A PyTorch-enabled port of GRANSO with auto-differentiation |\n",
    "    |  Copyright (C) 2021 Tim Mitchell and Buyun Liang                      |\n",
    "    |                                                                       |\n",
    "    |  This file is part of PyGRANSO.                                       |\n",
    "    |                                                                       |\n",
    "    |  PyGRANSO is free software: you can redistribute it and/or modify     |\n",
    "    |  it under the terms of the GNU Affero General Public License as       |\n",
    "    |  published by the Free Software Foundation, either version 3 of       |\n",
    "    |  the License, or (at your option) any later version.                  |\n",
    "    |                                                                       |\n",
    "    |  PyGRANSO is distributed in the hope that it will be useful,          |\n",
    "    |  but WITHOUT ANY WARRANTY; without even the implied warranty of       |\n",
    "    |  MERCHANTABILITY or FITNESS FOR A PARTICULAR PURPOSE.  See the        |\n",
    "    |  GNU Affero General Public License for more details.                  |\n",
    "    |                                                                       |\n",
    "    |  You should have received a copy of the GNU Affero General Public     |\n",
    "    |  License along with this program.  If not, see                        |\n",
    "    |  <http://www.gnu.org/licenses/agpl.html>.                             |\n",
    "    ========================================================================="
   ]
  },
  {
   "cell_type": "markdown",
   "id": "a2ca043d",
   "metadata": {},
   "source": [
    "## Problem Description"
   ]
  },
  {
   "cell_type": "markdown",
   "id": "5ae4094e",
   "metadata": {},
   "source": [
    "$$\\min_{M,S}||M||_{\\text{nuc}}+\\lambda||S||_1,$$\n",
    "$$\\text{s.t. }Y=M+S,$$\n",
    "where $M,S\\in R^{d_1,d_2}$ are matrix form optimization variables, $Y\\in R^{d_1,d_2}$ is a given matrix, and $||\\cdot||_{\\text{nuc}}$ denotes the nuclear norm."
   ]
  },
  {
   "cell_type": "markdown",
   "id": "08dfdd50",
   "metadata": {},
   "source": [
    "## Modules Importing\n",
    "Import all necessary modules and add PyGRANSO src folder to system path."
   ]
  },
  {
   "cell_type": "code",
   "execution_count": 1,
   "id": "90ed32f9",
   "metadata": {},
   "outputs": [],
   "source": [
    "import time\n",
    "import torch\n",
    "import sys\n",
    "## Adding PyGRANSO directories. Should be modified by user\n",
    "sys.path.append('/home/buyun/Documents/GitHub/PyGRANSO')\n",
    "from pygranso import pygranso\n",
    "from pygransoStruct import pygransoStruct"
   ]
  },
  {
   "cell_type": "markdown",
   "id": "17a1b7fe",
   "metadata": {},
   "source": [
    "## Data Generation \n",
    "Specify torch device, and generate data.\n",
    "\n",
    "Use GPU for this problem. If no cuda device available, please set *device = torch.device('cpu')*"
   ]
  },
  {
   "cell_type": "code",
   "execution_count": 2,
   "id": "8b4842e1",
   "metadata": {},
   "outputs": [],
   "source": [
    "device = torch.device('cuda')\n",
    "d1 = 3\n",
    "d2 = 4\n",
    "torch.manual_seed(1)\n",
    "eta = .05\n",
    "Y = torch.randn(d1,d2).to(device=device, dtype=torch.double)"
   ]
  },
  {
   "cell_type": "markdown",
   "id": "ec80716b",
   "metadata": {},
   "source": [
    "## Problem Definition\n",
    "\n",
    "\n",
    "Specify optimization variables, and objective and constraint(s).\n",
    "\n",
    "Note: please strictly follow the format of comb_fn, which will be used in the PyGRANSO main algortihm."
   ]
  },
  {
   "cell_type": "code",
   "execution_count": 3,
   "id": "fb360e75",
   "metadata": {},
   "outputs": [],
   "source": [
    "# variables and corresponding dimensions.\n",
    "var_in = {\"M\": [d1,d2],\"S\": [d1,d2]}\n",
    "\n",
    "\n",
    "def comb_fn(X_struct):\n",
    "    M = X_struct.M\n",
    "    S = X_struct.S\n",
    "    \n",
    "    # objective function\n",
    "    f = torch.norm(M, p = 'nuc') + eta * torch.norm(S, p = 1)\n",
    "\n",
    "    # inequality constraint, matrix form\n",
    "    ci = None\n",
    "    \n",
    "    # equality constraint \n",
    "    ce = pygransoStruct()\n",
    "    ce.c1 = M + S - Y\n",
    "\n",
    "    return [f,ci,ce]\n"
   ]
  },
  {
   "cell_type": "markdown",
   "id": "f0f55ace",
   "metadata": {},
   "source": [
    "## User Options\n",
    "Specify user-defined options for PyGRANSO"
   ]
  },
  {
   "cell_type": "code",
   "execution_count": 4,
   "id": "f3a65b57",
   "metadata": {},
   "outputs": [],
   "source": [
    "opts = pygransoStruct()\n",
    "opts.torch_device = device\n",
    "opts.print_frequency = 10\n",
    "opts.x0 = .2 * torch.ones((2*d1*d2,1)).to(device=device, dtype=torch.double)\n",
    "opts.opt_tol = 1e-6"
   ]
  },
  {
   "cell_type": "markdown",
   "id": "8bca18c7",
   "metadata": {},
   "source": [
    "## Main Algorithm"
   ]
  },
  {
   "cell_type": "code",
   "execution_count": 5,
   "id": "632976b3",
   "metadata": {},
   "outputs": [
    {
     "name": "stdout",
     "output_type": "stream",
     "text": [
      "\n",
      "\n",
      "\u001b[33m╔═════ QP SOLVER NOTICE ════════════════════════════════════════════════════════════════════════╗\n",
      "\u001b[0m\u001b[33m║  PyGRANSO requires a quadratic program (QP) solver that has a quadprog-compatible interface,  ║\n",
      "\u001b[0m\u001b[33m║  the default is osqp. Users may provide their own wrapper for the QP solver.                  ║\n",
      "\u001b[0m\u001b[33m║  To disable this notice, set opts.quadprog_info_msg = False                                   ║\n",
      "\u001b[0m\u001b[33m╚═══════════════════════════════════════════════════════════════════════════════════════════════╝\n",
      "\u001b[0m═════════════════════════════════════════════════════════════════════════════════════════════════════════════════╗\n",
      "PyGRANSO: A PyTorch-enabled port of GRANSO with auto-differentiation                                             ║ \n",
      "Version 1.0.0                                                                                                    ║ \n",
      "Licensed under the AGPLv3, Copyright (C) 2021 Tim Mitchell and Buyun Liang                                       ║ \n",
      "═════════════════════════════════════════════════════════════════════════════════════════════════════════════════╣\n",
      "Problem specifications:                                                                                          ║ \n",
      " # of variables                     :   24                                                                       ║ \n",
      " # of inequality constraints        :    0                                                                       ║ \n",
      " # of equality constraints          :   12                                                                       ║ \n",
      "═════╦═══════════════════════════╦════════════════╦═════════════════╦═══════════════════════╦════════════════════╣\n",
      "     ║ <--- Penalty Function --> ║                ║ Total Violation ║ <--- Line Search ---> ║ <- Stationarity -> ║ \n",
      "Iter ║    Mu    │      Value     ║    Objective   ║ Ineq │    Eq    ║ SD │ Evals │     t    ║ Grads │    Value   ║ \n",
      "═════╬═══════════════════════════╬════════════════╬═════════════════╬═══════════════════════╬════════════════════╣\n",
      "   0 ║ 1.000000 │  9.26721133015 ║  0.81282032303 ║   -  │ 1.922768 ║ -  │     1 │ 0.000000 ║     1 │ 2.502220   ║ \n",
      "  10 ║ 0.228768 │  0.10944851437 ║  0.47842596196 ║   -  │ 8.88e-16 ║ S  │     1 │ 1.000000 ║     1 │ 4.649133   ║ \n",
      "  20 ║ 0.088629 │  0.02987332406 ║  0.33705892627 ║   -  │ 5.28e-13 ║ S  │     4 │ 0.125000 ║     1 │ 0.013927   ║ \n",
      "  30 ║ 0.088629 │  0.02961763578 ║  0.33417401065 ║   -  │ 1.15e-13 ║ S  │     3 │ 0.250000 ║     1 │ 0.005520   ║ \n",
      "  40 ║ 0.088629 │  0.02958952106 ║  0.33385679403 ║   -  │ 5.66e-15 ║ S  │     3 │ 0.250000 ║     1 │ 8.10e-04   ║ \n",
      "  50 ║ 0.030903 │  0.01031425037 ║  0.33376043889 ║   -  │ 6.94e-16 ║ S  │     4 │ 0.125000 ║     6 │ 3.90e-05   ║ \n",
      "  60 ║ 0.004638 │  0.00154806127 ║  0.33374903361 ║   -  │ 1.14e-10 ║ S  │     1 │ 1.000000 ║    14 │ 9.31e-07   ║ \n",
      "═════╩═══════════════════════════╩════════════════╩═════════════════╩═══════════════════════╩════════════════════╣\n",
      "Optimization results:                                                                                            ║ \n",
      "F = final iterate, B = Best (to tolerance), MF = Most Feasible                                                   ║ \n",
      "═════╦═══════════════════════════╦════════════════╦═════════════════╦═══════════════════════╦════════════════════╣\n",
      "   F ║          │                ║  0.33374903361 ║   -  │ 1.14e-10 ║    │       │          ║       │            ║ \n",
      "   B ║          │                ║  0.33374903361 ║   -  │ 1.14e-10 ║    │       │          ║       │            ║ \n",
      "  MF ║          │                ║  0.33389618278 ║   -  │ 0.000000 ║    │       │          ║       │            ║ \n",
      "═════╩═══════════════════════════╩════════════════╩═════════════════╩═══════════════════════╩════════════════════╣\n",
      "Iterations:              60                                                                                      ║ \n",
      "Function evaluations:    163                                                                                     ║ \n",
      "PyGRANSO termination code: 0 --- converged to stationarity and feasibility tolerances.                           ║ \n",
      "═════════════════════════════════════════════════════════════════════════════════════════════════════════════════╝\n",
      "Total Wall Time: 2.8363747596740723s\n"
     ]
    }
   ],
   "source": [
    "start = time.time()\n",
    "soln = pygranso(var_spec = var_in,combined_fn = comb_fn,user_opts = opts)\n",
    "end = time.time()\n",
    "print(\"Total Wall Time: {}s\".format(end - start))"
   ]
  }
 ],
 "metadata": {
  "kernelspec": {
   "display_name": "Python 3 (ipykernel)",
   "language": "python",
   "name": "python3"
  },
  "language_info": {
   "codemirror_mode": {
    "name": "ipython",
    "version": 3
   },
   "file_extension": ".py",
   "mimetype": "text/x-python",
   "name": "python",
   "nbconvert_exporter": "python",
   "pygments_lexer": "ipython3",
   "version": "3.9.7"
  }
 },
 "nbformat": 4,
 "nbformat_minor": 5
}
