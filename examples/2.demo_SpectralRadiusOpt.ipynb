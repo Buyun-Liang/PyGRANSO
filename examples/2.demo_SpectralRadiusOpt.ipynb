{
 "cells": [
  {
   "cell_type": "markdown",
   "id": "5257bb27",
   "metadata": {},
   "source": [
    "# Getting started with Spectral Radius Optimization\n",
    "\n",
    "This notebook contains examples of how to solve Spectral Radius Optimization problem.\n",
    "\n",
    "For more details, please check the documentation website https://pygranso.readthedocs.io/en/latest/"
   ]
  },
  {
   "cell_type": "markdown",
   "id": "08dfdd50",
   "metadata": {},
   "source": [
    "1. Import all necessary modules and add PyGRANSO src folder to system path."
   ]
  },
  {
   "cell_type": "code",
   "execution_count": 1,
   "id": "90ed32f9",
   "metadata": {},
   "outputs": [],
   "source": [
    "import time\n",
    "import torch\n",
    "import os,sys\n",
    "## Adding PyGRANSO directories. Should be modified by user\n",
    "sys.path.append('/home/buyun/Documents/GitHub/PyGRANSO')\n",
    "from pygranso import pygranso\n",
    "from pygransoStruct import Options, Data, GeneralStruct \n",
    "import scipy.io\n",
    "from torch import linalg as LA"
   ]
  },
  {
   "cell_type": "markdown",
   "id": "17a1b7fe",
   "metadata": {},
   "source": [
    "2. Specify torch device, and read the data from provided file"
   ]
  },
  {
   "cell_type": "code",
   "execution_count": 2,
   "id": "8b4842e1",
   "metadata": {},
   "outputs": [],
   "source": [
    "device = torch.device('cpu')\n",
    "\n",
    "# currentdir = os.path.dirname(os.path.realpath(__file__))\n",
    "file = \"/home/buyun/Documents/GitHub/PyGRANSO/examples/data/spec_radius_opt_data.mat\"\n",
    "mat = scipy.io.loadmat(file)\n",
    "mat_struct = mat['sys']\n",
    "mat_struct = mat_struct[0,0]\n",
    "A = torch.from_numpy(mat_struct['A']).to(device=device, dtype=torch.double)\n",
    "B = torch.from_numpy(mat_struct['B']).to(device=device, dtype=torch.double)\n",
    "C = torch.from_numpy(mat_struct['C']).to(device=device, dtype=torch.double)\n",
    "p = B.shape[1]\n",
    "m = C.shape[0]\n",
    "stability_margin = 1"
   ]
  },
  {
   "cell_type": "markdown",
   "id": "ec80716b",
   "metadata": {},
   "source": [
    "3. Spceify optimization variables and corresponding objective and constrained function.\n",
    "\n",
    "Note: please strictly follow the format of evalObjFunction and combinedFunction, which will be used in the PyGRANSO main algortihm. "
   ]
  },
  {
   "cell_type": "code",
   "execution_count": 3,
   "id": "fb360e75",
   "metadata": {},
   "outputs": [],
   "source": [
    "# variables and corresponding dimensions.\n",
    "var_in = {\"X\": [p,m] }\n",
    "\n",
    "\n",
    "def evalObjFunction(X_struct):\n",
    "    # user defined variable, matirx form. torch tensor\n",
    "    X = X_struct.X\n",
    "    X.requires_grad_(True)\n",
    "\n",
    "    # objective function\n",
    "    M           = A + B@X@C\n",
    "    [D,_]       = LA.eig(M)\n",
    "    f = torch.max(D.imag)\n",
    "    return f\n",
    "\n",
    "def combinedFunction(X_struct):\n",
    "    # user defined variable, matirx form. torch tensor\n",
    "    X = X_struct.X\n",
    "    X.requires_grad_(True)\n",
    "\n",
    "    # objective function\n",
    "    M           = A + B@X@C\n",
    "    [D,_]       = LA.eig(M)\n",
    "    f = torch.max(D.imag)\n",
    "\n",
    "    # inequality constraint, matrix form\n",
    "    ci = GeneralStruct()\n",
    "    ci.c1 = torch.max(D.real) + stability_margin\n",
    "\n",
    "    # equality constraint \n",
    "    ce = None\n",
    "    \n",
    "    return [f,ci,ce]\n",
    "\n",
    "obj_eval_fn = lambda X_struct : evalObjFunction(X_struct)\n",
    "comb_fn = lambda X_struct : combinedFunction(X_struct)"
   ]
  },
  {
   "cell_type": "markdown",
   "id": "f0f55ace",
   "metadata": {},
   "source": [
    "4. Specify user-defined options for PyGRANSO algorithm"
   ]
  },
  {
   "cell_type": "code",
   "execution_count": 4,
   "id": "f3a65b57",
   "metadata": {},
   "outputs": [],
   "source": [
    "opts = Options()\n",
    "opts.QPsolver = 'osqp' \n",
    "opts.maxit = 200\n",
    "opts.x0 = torch.zeros(p*m,1).to(device=device, dtype=torch.double)\n",
    "opts.print_level = 1\n",
    "opts.print_frequency = 10\n",
    "opts.limited_mem_size = 40"
   ]
  },
  {
   "cell_type": "markdown",
   "id": "8bca18c7",
   "metadata": {},
   "source": [
    "4. Run main algorithm"
   ]
  },
  {
   "cell_type": "code",
   "execution_count": 5,
   "id": "632976b3",
   "metadata": {},
   "outputs": [
    {
     "name": "stdout",
     "output_type": "stream",
     "text": [
      "\n",
      "\n",
      "\u001b[33m╔═════ QP SOLVER NOTICE ════════════════════════════════════════════════════════════════════════╗\n",
      "\u001b[0m\u001b[33m║  PyGRANSO requires a quadratic program (QP) solver that has a quadprog-compatible interface,  ║\n",
      "\u001b[0m\u001b[33m║  the default is osqp. Users may provide their own wrapper for the QP solver.                  ║\n",
      "\u001b[0m\u001b[33m║  To disable this notice, set opts.quadprog_info_msg = False                                   ║\n",
      "\u001b[0m\u001b[33m╚═══════════════════════════════════════════════════════════════════════════════════════════════╝\n",
      "\u001b[0m═════════════════════════════════════════════════════════════════════════════════════════════════════════════════╗\n",
      "PyGRANSO: Python numerical package using GRadient-based Algorithm for Non-Smooth Optimization                    ║ \n",
      "Version 1.1.0                                                                                                    ║ \n",
      "MIT License Copyright (c) 2021 SUN Group @ UMN                                                                   ║ \n",
      "═════════════════════════════════════════════════════════════════════════════════════════════════════════════════╣\n",
      "Problem specifications:                                                                                          ║ \n",
      " # of variables                     :   200                                                                      ║ \n",
      " # of inequality constraints        :     1                                                                      ║ \n",
      " # of equality constraints          :     0                                                                      ║ \n",
      "═════════════════════════════════════════════════════════════════════════════════════════════════════════════════╣\n",
      "\u001b[33mLimited-memory mode enabled with size = 40.                                                                     \u001b[0m ║ \n",
      "\u001b[33mNOTE: limited-memory mode is generally NOT                                                                      \u001b[0m ║ \n",
      "\u001b[33mrecommended for nonsmooth problems.                                                                             \u001b[0m ║ \n",
      "═════╦═══════════════════════════╦════════════════╦═════════════════╦═══════════════════════╦════════════════════╣\n",
      "     ║ <--- Penalty Function --> ║                ║ Total Violation ║ <--- Line Search ---> ║ <- Stationarity -> ║ \n",
      "Iter ║    Mu    │      Value     ║    Objective   ║   Ineq   │  Eq  ║ SD │ Evals │     t    ║ Grads │    Value   ║ \n",
      "═════╬═══════════════════════════╬════════════════╬═════════════════╬═══════════════════════╬════════════════════╣\n",
      "   0 ║ 1.000000 │  16.2063030241 ║  13.7635444107 ║ 2.442759 │   -  ║ -  │     1 │ 0.000000 ║     1 │ 28.28938   ║ \n",
      "  10 ║ 1.000000 │  14.3591439684 ║  12.9268171726 ║ 1.432327 │   -  ║ S  │     1 │ 1.000000 ║     1 │ 0.035477   ║ \n",
      "  20 ║ 1.000000 │  13.7136984066 ║  12.6565968338 ║ 1.057102 │   -  ║ S  │     2 │ 0.500000 ║     1 │ 0.040023   ║ \n",
      "  30 ║ 0.478297 │  6.59868506314 ║  12.2627429073 ║ 0.733453 │   -  ║ S  │     3 │ 0.250000 ║     1 │ 0.025186   ║ \n",
      "  40 ║ 0.478297 │  6.26517458135 ║  12.1793789205 ║ 0.439815 │   -  ║ S  │     4 │ 0.125000 ║     1 │ 0.035916   ║ \n",
      "  50 ║ 0.478297 │  6.05497580029 ║  12.0562188912 ║ 0.288524 │   -  ║ S  │     5 │ 0.062500 ║     1 │ 0.008753   ║ \n",
      "  60 ║ 0.478297 │  5.93642237060 ║  11.8897964720 ║ 0.249570 │   -  ║ S  │     5 │ 0.062500 ║     1 │ 0.028384   ║ \n",
      "  70 ║ 0.348678 │  4.31223041546 ║  11.9076568700 ║ 0.160287 │   -  ║ S  │     9 │ 0.003906 ║     1 │ 0.144325   ║ \n",
      "  80 ║ 0.348678 │  4.17485073813 ║  11.7970608055 ║ 0.061470 │   -  ║ S  │     9 │ 0.011719 ║     1 │ 0.168290   ║ \n",
      "  90 ║ 0.348678 │  4.10222242477 ║  11.7650590142 ║ 0.000000 │   -  ║ S  │     9 │ 0.003906 ║     1 │ 0.326746   ║ \n",
      " 100 ║ 0.254187 │  2.98371725889 ║  11.7221185406 ║ 0.004112 │   -  ║ S  │    12 │ 0.005371 ║     1 │ 0.357751   ║ \n",
      " 110 ║ 0.254187 │  2.97812445024 ║  11.7157265572 ║ 1.44e-04 │   -  ║ S  │     9 │ 0.042969 ║     1 │ 0.020585   ║ \n",
      " 120 ║ 0.254187 │  2.97322675623 ║  11.6970247725 ║ 0.000000 │   -  ║ S  │    10 │ 0.001953 ║     1 │ 0.043266   ║ \n",
      " 130 ║ 0.098477 │  1.15158207068 ║  11.6913864923 ║ 2.48e-04 │   -  ║ S  │    17 │ 1.53e-05 ║     1 │ 0.031848   ║ \n",
      " 140 ║ 0.098477 │  1.15108450051 ║  11.6881699120 ║ 6.75e-05 │   -  ║ S  │    11 │ 9.77e-04 ║     1 │ 0.054293   ║ \n",
      " 150 ║ 0.052335 │  0.61160287572 ║  11.6860494738 ║ 1.62e-05 │   -  ║ S  │    13 │ 2.44e-04 ║     1 │ 0.046557   ║ \n",
      " 160 ║ 0.018248 │  0.21321345645 ║  11.6835855152 ║ 1.13e-05 │   -  ║ S  │    12 │ 4.88e-04 ║     1 │ 0.051704   ║ \n",
      " 170 ║ 0.006363 │  0.07433553198 ║  11.6830436884 ║ 0.000000 │   -  ║ S  │    14 │ 1.22e-04 ║     1 │ 1.840199   ║ \n",
      " 180 ║ 0.002219 │  0.02591648972 ║  11.6818232353 ║ 0.000000 │   -  ║ S  │    13 │ 0.006104 ║     1 │ 0.441307   ║ \n",
      " 190 ║ 9.40e-05 │  0.00109861934 ║  11.6817097284 ║ 0.000000 │   -  ║ S  │    13 │ 2.44e-04 ║     1 │ 0.041641   ║ \n",
      "═════╬═══════════════════════════╬════════════════╬═════════════════╬═══════════════════════╬════════════════════╣\n",
      "     ║ <--- Penalty Function --> ║                ║ Total Violation ║ <--- Line Search ---> ║ <- Stationarity -> ║ \n",
      "Iter ║    Mu    │      Value     ║    Objective   ║   Ineq   │  Eq  ║ SD │ Evals │     t    ║ Grads │    Value   ║ \n",
      "═════╬═══════════════════════════╬════════════════╬═════════════════╬═══════════════════════╬════════════════════╣\n",
      " 200 ║ 9.40e-05 │  0.00109845233 ║  11.6799338355 ║ 0.000000 │   -  ║ S  │     7 │ 0.015625 ║     1 │ 0.045579   ║ \n",
      "═════╩═══════════════════════════╩════════════════╩═════════════════╩═══════════════════════╩════════════════════╣\n",
      "Optimization results:                                                                                            ║ \n",
      "F = final iterate, B = Best (to tolerance), MF = Most Feasible                                                   ║ \n",
      "═════╦═══════════════════════════╦════════════════╦═════════════════╦═══════════════════════╦════════════════════╣\n",
      "   F ║          │                ║  11.6799338355 ║ 0.000000 │   -  ║    │       │          ║       │            ║ \n",
      "   B ║          │                ║  11.6799338355 ║ 0.000000 │   -  ║    │       │          ║       │            ║ \n",
      "  MF ║          │                ║  11.6799338355 ║ 0.000000 │   -  ║    │       │          ║       │            ║ \n",
      "═════╩═══════════════════════════╩════════════════╩═════════════════╩═══════════════════════╩════════════════════╣\n",
      "Iterations:              200                                                                                     ║ \n",
      "Function evaluations:    1950                                                                                    ║ \n",
      "PyGRANSO termination code: 4 --- max iterations reached.                                                         ║ \n",
      "═════════════════════════════════════════════════════════════════════════════════════════════════════════════════╝\n",
      "Total Wall Time: 74.67110800743103s\n"
     ]
    }
   ],
   "source": [
    "start = time.time()\n",
    "soln = pygranso(combinedFunction = comb_fn, objEvalFunction = obj_eval_fn,var_dim_map = var_in, torch_device = device, user_opts = opts)\n",
    "end = time.time()\n",
    "print(\"Total Wall Time: {}s\".format(end - start))"
   ]
  }
 ],
 "metadata": {
  "kernelspec": {
   "display_name": "Python 3 (ipykernel)",
   "language": "python",
   "name": "python3"
  },
  "language_info": {
   "codemirror_mode": {
    "name": "ipython",
    "version": 3
   },
   "file_extension": ".py",
   "mimetype": "text/x-python",
   "name": "python",
   "nbconvert_exporter": "python",
   "pygments_lexer": "ipython3",
   "version": "3.9.7"
  }
 },
 "nbformat": 4,
 "nbformat_minor": 5
}
