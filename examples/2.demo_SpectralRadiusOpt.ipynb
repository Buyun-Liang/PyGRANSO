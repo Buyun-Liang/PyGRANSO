{
 "cells": [
  {
   "cell_type": "markdown",
   "id": "5257bb27",
   "metadata": {},
   "source": [
    "# Getting started with Spectral Radius Optimization\n",
    "\n",
    "This notebook contains examples of how to solve Spectral Radius Optimization problem.\n",
    "\n",
    "For more details, please check the documentation website https://pygranso.readthedocs.io/en/latest/"
   ]
  },
  {
   "cell_type": "markdown",
   "id": "08dfdd50",
   "metadata": {},
   "source": [
    "1. Import all necessary modules and add PyGRANSO src folder to system path."
   ]
  },
  {
   "cell_type": "code",
   "execution_count": 1,
   "id": "90ed32f9",
   "metadata": {},
   "outputs": [],
   "source": [
    "import time\n",
    "import torch\n",
    "import os,sys\n",
    "## Adding PyGRANSO directories. Should be modified by user\n",
    "sys.path.append('/home/buyun/Documents/GitHub/PyGRANSO')\n",
    "from pygranso import pygranso\n",
    "from pygransoStruct import Options, Data, GeneralStruct \n",
    "import scipy.io\n",
    "from torch import linalg as LA"
   ]
  },
  {
   "cell_type": "markdown",
   "id": "17a1b7fe",
   "metadata": {},
   "source": [
    "2. Specify torch device, and read the data from provided file"
   ]
  },
  {
   "cell_type": "code",
   "execution_count": 2,
   "id": "8b4842e1",
   "metadata": {},
   "outputs": [],
   "source": [
    "device = torch.device('cpu')\n",
    "\n",
    "# currentdir = os.path.dirname(os.path.realpath(__file__))\n",
    "file = \"/home/buyun/Documents/GitHub/PyGRANSO/examples/data/spec_radius_opt_data.mat\"\n",
    "mat = scipy.io.loadmat(file)\n",
    "mat_struct = mat['sys']\n",
    "mat_struct = mat_struct[0,0]\n",
    "A = torch.from_numpy(mat_struct['A']).to(device=device, dtype=torch.double)\n",
    "B = torch.from_numpy(mat_struct['B']).to(device=device, dtype=torch.double)\n",
    "C = torch.from_numpy(mat_struct['C']).to(device=device, dtype=torch.double)\n",
    "p = B.shape[1]\n",
    "m = C.shape[0]\n",
    "stability_margin = 1"
   ]
  },
  {
   "cell_type": "markdown",
   "id": "ec80716b",
   "metadata": {},
   "source": [
    "3. Spceify optimization variables and corresponding objective and constrained function.\n",
    "\n",
    "Note: please strictly follow the format of evalObjFunction and combinedFunction, which will be used in the PyGRANSO main algortihm. "
   ]
  },
  {
   "cell_type": "code",
   "execution_count": 3,
   "id": "fb360e75",
   "metadata": {},
   "outputs": [],
   "source": [
    "# variables and corresponding dimensions.\n",
    "var_in = {\"X\": [p,m] }\n",
    "\n",
    "\n",
    "def evalObjFunction(X_struct):\n",
    "    # user defined variable, matirx form. torch tensor\n",
    "    X = X_struct.X\n",
    "    X.requires_grad_(True)\n",
    "\n",
    "    # objective function\n",
    "    M           = A + B@X@C\n",
    "    [D,_]       = LA.eig(M)\n",
    "    f = torch.max(D.imag)\n",
    "    return f\n",
    "\n",
    "def combinedFunction(X_struct):\n",
    "    # user defined variable, matirx form. torch tensor\n",
    "    X = X_struct.X\n",
    "    X.requires_grad_(True)\n",
    "\n",
    "    # objective function\n",
    "    M           = A + B@X@C\n",
    "    [D,_]       = LA.eig(M)\n",
    "    f = torch.max(D.imag)\n",
    "\n",
    "    # inequality constraint, matrix form\n",
    "    ci = GeneralStruct()\n",
    "    ci.c1 = torch.max(D.real) + stability_margin\n",
    "\n",
    "    # equality constraint \n",
    "    ce = None\n",
    "    \n",
    "    return [f,ci,ce]\n",
    "\n",
    "obj_eval_fn = lambda X_struct : evalObjFunction(X_struct)\n",
    "comb_fn = lambda X_struct : combinedFunction(X_struct)"
   ]
  },
  {
   "cell_type": "markdown",
   "id": "f0f55ace",
   "metadata": {},
   "source": [
    "4. Specify user-defined options for PyGRANSO algorithm"
   ]
  },
  {
   "cell_type": "code",
   "execution_count": 4,
   "id": "f3a65b57",
   "metadata": {},
   "outputs": [],
   "source": [
    "opts = Options()\n",
    "opts.QPsolver = 'osqp' \n",
    "opts.maxit = 200\n",
    "opts.x0 = torch.zeros(p*m,1).to(device=device, dtype=torch.double)\n",
    "opts.print_level = 1\n",
    "opts.print_frequency = 10\n",
    "opts.limited_mem_size = 40"
   ]
  },
  {
   "cell_type": "markdown",
   "id": "8bca18c7",
   "metadata": {},
   "source": [
    "4. Run main algorithm"
   ]
  },
  {
   "cell_type": "code",
   "execution_count": 5,
   "id": "632976b3",
   "metadata": {},
   "outputs": [
    {
     "name": "stdout",
     "output_type": "stream",
     "text": [
      "\n",
      "\n",
      "\u001b[33m╔═════ QP SOLVER NOTICE ══════════════════════════════════════════════════════════════╗\n",
      "\u001b[0m\u001b[33m║  PyGRANSO requires a quadratic program (QP) solver that has a quadprog-compatible   ║\n",
      "\u001b[0m\u001b[33m║  interface, as defined by osqp and Gurobi...                                        ║\n",
      "\u001b[0m\u001b[33m╚═════════════════════════════════════════════════════════════════════════════════════╝\n",
      "\u001b[0m═════════════════════════════════════════════════════════════════════════════════════════════════════════════════╗\n",
      "Problem specifications:                                                                                          ║ \n",
      " # of variables                     :   200                                                                      ║ \n",
      " # of inequality constraints        :     1                                                                      ║ \n",
      " # of equality constraints          :     0                                                                      ║ \n",
      "═════════════════════════════════════════════════════════════════════════════════════════════════════════════════╣\n",
      "\u001b[33mLimited-memory mode enabled with size = 40.                                                                     \u001b[0m ║ \n",
      "\u001b[33mNOTE: limited-memory mode is generally NOT                                                                      \u001b[0m ║ \n",
      "\u001b[33mrecommended for nonsmooth problems.                                                                             \u001b[0m ║ \n",
      "═════╦═══════════════════════════╦════════════════╦═════════════════╦═══════════════════════╦════════════════════╣\n",
      "     ║ <--- Penalty Function --> ║                ║ Total Violation ║ <--- Line Search ---> ║ <- Stationarity -> ║ \n",
      "Iter ║    Mu    │      Value     ║    Objective   ║   Ineq   │  Eq  ║ SD │ Evals │     t    ║ Grads │    Value   ║ \n",
      "═════╬═══════════════════════════╬════════════════╬═════════════════╬═══════════════════════╬════════════════════╣\n",
      "   0 ║ 1.000000 │  16.2063030241 ║  13.7635444107 ║ 2.442759 │   -  ║ -  │     1 │ 0.000000 ║     1 │ 28.28938   ║ \n"
     ]
    },
    {
     "name": "stderr",
     "output_type": "stream",
     "text": [
      "/home/buyun/anaconda3/envs/cuosqp_pygranso/lib/python3.9/site-packages/osqp/utils.py:122: UserWarning: Converting sparse A to a CSC (compressed sparse column) matrix. (It may take a while...)\n",
      "  warn(\"Converting sparse A to a CSC \" +\n"
     ]
    },
    {
     "name": "stdout",
     "output_type": "stream",
     "text": [
      "  10 ║ 1.000000 │  14.3591621233 ║  12.9268286638 ║ 1.432333 │   -  ║ S  │     1 │ 1.000000 ║     1 │ 0.035476   ║ \n",
      "  20 ║ 1.000000 │  13.7108075289 ║  12.6560751464 ║ 1.054732 │   -  ║ S  │     2 │ 0.500000 ║     1 │ 0.039916   ║ \n",
      "  30 ║ 1.000000 │  12.9780969354 ║  12.2693532882 ║ 0.708744 │   -  ║ S  │     5 │ 0.062500 ║     1 │ 0.044711   ║ \n",
      "  40 ║ 1.000000 │  12.6278337430 ║  12.0378971738 ║ 0.589937 │   -  ║ S  │     4 │ 0.125000 ║     1 │ 0.022880   ║ \n"
     ]
    },
    {
     "name": "stderr",
     "output_type": "stream",
     "text": [
      "/home/buyun/Documents/GitHub/PyGRANSO/private/bfgsHessianInverseLimitedMem.py:106: UserWarning: To copy construct from a tensor, it is recommended to use sourceTensor.clone().detach() or sourceTensor.clone().detach().requires_grad_(True), rather than torch.tensor(sourceTensor).\n",
      "  self.rho = torch.hstack((self.rho[:,1:], torch.tensor(rho_new)))\n"
     ]
    },
    {
     "name": "stdout",
     "output_type": "stream",
     "text": [
      "  50 ║ 0.810000 │  10.0998832396 ║  11.9737990401 ║ 0.401106 │   -  ║ S  │     4 │ 0.125000 ║     1 │ 0.022497   ║ \n",
      "  60 ║ 0.810000 │  9.85470307548 ║  11.8691995412 ║ 0.240651 │   -  ║ S  │     4 │ 0.125000 ║     1 │ 0.019422   ║ \n",
      "  70 ║ 0.810000 │  9.76355751695 ║  11.7944872776 ║ 0.210023 │   -  ║ S  │     8 │ 0.007812 ║     1 │ 0.175698   ║ \n",
      "  80 ║ 0.810000 │  9.66853158992 ║  11.7506269498 ║ 0.150524 │   -  ║ S  │     6 │ 0.031250 ║     1 │ 0.018261   ║ \n",
      "  90 ║ 0.810000 │  9.60157661057 ║  11.7237537653 ║ 0.105336 │   -  ║ S  │     7 │ 0.015625 ║     1 │ 0.141248   ║ \n",
      " 100 ║ 0.531441 │  6.27510636475 ║  11.6973832178 ║ 0.058637 │   -  ║ S  │    10 │ 0.001953 ║     1 │ 0.519602   ║ \n",
      " 110 ║ 0.531441 │  6.26154786174 ║  11.6752864747 ║ 0.056822 │   -  ║ S  │    12 │ 0.001465 ║     1 │ 0.197857   ║ \n",
      " 120 ║ 0.348678 │  4.10994349086 ║  11.6996971452 ║ 0.030511 │   -  ║ S  │    15 │ 4.27e-04 ║     1 │ 64.43392   ║ \n",
      " 130 ║ 0.348678 │  4.07047561607 ║  11.6740100561 ║ 0.000000 │   -  ║ S  │     9 │ 0.003906 ║     1 │ 1.717501   ║ \n",
      " 140 ║ 0.348678 │  4.06390468653 ║  11.6448315231 ║ 0.003603 │   -  ║ S  │    18 │ 2.29e-05 ║     1 │ 0.421998   ║ \n",
      " 150 ║ 0.109419 │  1.27271615510 ║  11.6315839253 ║ 0.000000 │   -  ║ S  │    16 │ 2.14e-04 ║     1 │ 45.88750   ║ \n",
      " 160 ║ 0.109419 │  1.27153824984 ║  11.6204714835 ║ 3.80e-05 │   -  ║ S  │    22 │ 3.34e-06 ║     1 │ 0.036403   ║ \n",
      " 170 ║ 0.064611 │  0.75050079672 ║  11.6157140490 ║ 0.000000 │   -  ║ S  │     8 │ 0.007812 ║     1 │ 0.089029   ║ \n",
      " 180 ║ 0.064611 │  0.74994579477 ║  11.6071241260 ║ 0.000000 │   -  ║ S  │    12 │ 4.88e-04 ║     1 │ 0.176619   ║ \n",
      " 190 ║ 0.003043 │  0.03531597980 ║  11.6043776806 ║ 9.26e-07 │   -  ║ S  │    17 │ 0.031113 ║     1 │ 0.002524   ║ \n",
      "═════╬═══════════════════════════╬════════════════╬═════════════════╬═══════════════════════╬════════════════════╣\n",
      "     ║ <--- Penalty Function --> ║                ║ Total Violation ║ <--- Line Search ---> ║ <- Stationarity -> ║ \n",
      "Iter ║    Mu    │      Value     ║    Objective   ║   Ineq   │  Eq  ║ SD │ Evals │     t    ║ Grads │    Value   ║ \n",
      "═════╬═══════════════════════════╬════════════════╬═════════════════╬═══════════════════════╬════════════════════╣\n",
      " 200 ║ 0.003043 │  0.03530508585 ║  11.6011021996 ║ 0.000000 │   -  ║ S  │     6 │ 0.031250 ║     1 │ 0.004884   ║ \n",
      "═════╩═══════════════════════════╩════════════════╩═════════════════╩═══════════════════════╩════════════════════╣\n",
      "F = final iterate, B = Best (to tolerance), MF = Most Feasible                                                   ║ \n",
      "Optimization results:                                                                                            ║ \n",
      "═════╦═══════════════════════════╦════════════════╦═════════════════╦═══════════════════════╦════════════════════╣\n",
      "   F ║          │                ║  11.6011021996 ║ 0.000000 │   -  ║    │       │          ║       │            ║ \n",
      "   B ║          │                ║  11.6011021996 ║ 0.000000 │   -  ║    │       │          ║       │            ║ \n",
      "  MF ║          │                ║  11.6011021996 ║ 0.000000 │   -  ║    │       │          ║       │            ║ \n",
      "═════╩═══════════════════════════╩════════════════╩═════════════════╩═══════════════════════╩════════════════════╣\n",
      "Iterations:              200                                                                                     ║ \n",
      "Function evaluations:    1714                                                                                    ║ \n",
      "PyGRANSO termination code: 4 --- max iterations reached.                                                         ║ \n",
      "═════════════════════════════════════════════════════════════════════════════════════════════════════════════════╝\n",
      "Total Wall Time: 70.42370581626892s\n"
     ]
    }
   ],
   "source": [
    "start = time.time()\n",
    "soln = pygranso(combinedFunction = comb_fn, objEvalFunction = obj_eval_fn,var_dim_map = var_in, torch_device = device, user_opts = opts)\n",
    "end = time.time()\n",
    "print(\"Total Wall Time: {}s\".format(end - start))"
   ]
  }
 ],
 "metadata": {
  "kernelspec": {
   "display_name": "Python 3 (ipykernel)",
   "language": "python",
   "name": "python3"
  },
  "language_info": {
   "codemirror_mode": {
    "name": "ipython",
    "version": 3
   },
   "file_extension": ".py",
   "mimetype": "text/x-python",
   "name": "python",
   "nbconvert_exporter": "python",
   "pygments_lexer": "ipython3",
   "version": "3.9.7"
  }
 },
 "nbformat": 4,
 "nbformat_minor": 5
}
