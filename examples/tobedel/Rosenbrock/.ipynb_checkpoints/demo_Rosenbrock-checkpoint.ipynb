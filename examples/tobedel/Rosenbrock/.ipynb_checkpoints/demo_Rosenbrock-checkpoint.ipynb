{
 "cells": [
  {
   "cell_type": "code",
   "execution_count": 2,
   "id": "90ed32f9",
   "metadata": {},
   "outputs": [],
   "source": [
    "import time\n",
    "import torch\n",
    "import sys\n",
    "## Adding PyGRANSO directories. Should be modified by user\n",
    "sys.path.append('/home/buyun/Documents/GitHub/PyGRANSO')\n",
    "from pygranso import pygranso\n",
    "from pygransoStruct import Options, Data"
   ]
  },
  {
   "cell_type": "code",
   "execution_count": 3,
   "id": "a9945d37",
   "metadata": {},
   "outputs": [
    {
     "name": "stdout",
     "output_type": "stream",
     "text": [
      "\n",
      "\n",
      "\u001b[33m╔═════ QP SOLVER NOTICE ══════════════════════════════════════════════════════════════╗\n",
      "\u001b[0m\u001b[33m║  PyGRANSO requires a quadratic program (QP) solver that has a quadprog-compatible   ║\n",
      "\u001b[0m\u001b[33m║  interface, as defined by osqp and Gurobi...                                        ║\n",
      "\u001b[0m\u001b[33m╚═════════════════════════════════════════════════════════════════════════════════════╝\n",
      "\u001b[0m═════════════════════════════════════════════════════════════════════════════════════════════════════════════════╗\n",
      "Problem specifications:                                                                                          ║ \n",
      " # of variables                     :   2                                                                        ║ \n",
      " # of inequality constraints        :   2                                                                        ║ \n",
      " # of equality constraints          :   0                                                                        ║ \n",
      "═════════════════════════════════════════════════════════════════════════════════════════════════════════════════╣\n",
      "\u001b[33mLimited-memory mode enabled with size = 1.                                                                      \u001b[0m ║ \n",
      "\u001b[33mNOTE: limited-memory mode is generally NOT                                                                      \u001b[0m ║ \n",
      "\u001b[33mrecommended for nonsmooth problems.                                                                             \u001b[0m ║ \n",
      "═════╦═══════════════════════════╦════════════════╦═════════════════╦═══════════════════════╦════════════════════╣\n",
      "     ║ <--- Penalty Function --> ║                ║ Total Violation ║ <--- Line Search ---> ║ <- Stationarity -> ║ \n",
      "Iter ║    Mu    │      Value     ║    Objective   ║   Ineq   │  Eq  ║ SD │ Evals │     t    ║ Grads │    Value   ║ \n",
      "═════╬═══════════════════════════╬════════════════╬═════════════════╬═══════════════════════╬════════════════════╣\n",
      "   0 ║ 1.000000 │  2.25000000000 ║  2.25000000000 ║ 0.000000 │   -  ║ -  │     1 │ 0.000000 ║     1 │ 11.02471   ║ \n",
      "   1 ║ 0.348678 │  0.17552270593 ║  0.50339420435 ║ 0.000000 │   -  ║ S  │     5 │ 0.062500 ║     1 │ 3.215383   ║ \n",
      "   2 ║ 0.348678 │  0.11843042653 ║  0.33965514615 ║ 0.000000 │   -  ║ S  │     2 │ 0.500000 ║     1 │ 0.088548   ║ \n",
      "   3 ║ 0.348678 │  0.09150729716 ║  0.26244036522 ║ 0.000000 │   -  ║ S  │     1 │ 1.000000 ║     1 │ 0.020991   ║ \n",
      "   4 ║ 0.348678 │  0.06779832422 ║  0.19444369488 ║ 0.000000 │   -  ║ S  │     1 │ 1.000000 ║     1 │ 0.011776   ║ \n",
      "   5 ║ 0.348678 │  0.05954399002 ║  0.17077049559 ║ 0.000000 │   -  ║ S  │     2 │ 0.500000 ║     1 │ 0.007770   ║ \n",
      "   6 ║ 0.348678 │  0.05808307364 ║  0.16658062834 ║ 0.000000 │   -  ║ S  │     2 │ 0.500000 ║     1 │ 0.005446   ║ \n",
      "   7 ║ 0.348678 │  0.05271847092 ║  0.15119509800 ║ 0.000000 │   -  ║ S  │     1 │ 1.000000 ║     1 │ 0.017807   ║ \n",
      "   8 ║ 0.348678 │  0.04924432084 ║  0.14123133286 ║ 0.000000 │   -  ║ S  │     2 │ 0.500000 ║     1 │ 2.973456   ║ \n",
      "   9 ║ 0.348678 │  0.04107671970 ║  0.11780688157 ║ 0.000000 │   -  ║ S  │     6 │ 0.031250 ║     1 │ 0.100888   ║ \n",
      "  10 ║ 0.348678 │  0.04045781552 ║  0.11603188172 ║ 0.000000 │   -  ║ S  │     2 │ 0.500000 ║     1 │ 0.003421   ║ \n",
      "  11 ║ 0.348678 │  0.03584852351 ║  0.10281256135 ║ 0.000000 │   -  ║ S  │     2 │ 2.000000 ║     1 │ 0.021240   ║ \n",
      "  12 ║ 0.348678 │  0.03421176876 ║  0.09603740614 ║ 7.26e-04 │   -  ║ S  │     1 │ 1.000000 ║     1 │ 2.20e-04   ║ \n",
      "  13 ║ 0.205891 │  0.01922363663 ║  0.09046731829 ║ 5.97e-04 │   -  ║ S  │     1 │ 1.000000 ║     1 │ 0.283330   ║ \n",
      "  14 ║ 0.205891 │  0.01767824291 ║  0.08586208999 ║ 0.000000 │   -  ║ S  │     1 │ 1.000000 ║     1 │ 0.004416   ║ \n",
      "  15 ║ 0.205891 │  0.01766556088 ║  0.08580049417 ║ 0.000000 │   -  ║ S  │    10 │ 0.001953 ║     1 │ 1.34e-04   ║ \n",
      "  16 ║ 0.205891 │  0.01766484379 ║  0.08579701131 ║ 0.000000 │   -  ║ S  │     4 │ 0.125000 ║     1 │ 2.79e-05   ║ \n",
      "  17 ║ 0.205891 │  0.01766298365 ║  0.08578741122 ║ 1.16e-07 │   -  ║ S  │     1 │ 1.000000 ║     1 │ 1.99e-07   ║ \n",
      "  18 ║ 0.071790 │  0.00615870656 ║  0.08578710335 ║ 6.77e-08 │   -  ║ S  │     4 │ 0.125000 ║     1 │ 0.072506   ║ \n",
      "  19 ║ 0.071790 │  0.00615862467 ║  0.08578690526 ║ 0.000000 │   -  ║ S  │    14 │ 1.22e-04 ║     1 │ 4.00e-07   ║ \n"
     ]
    },
    {
     "name": "stderr",
     "output_type": "stream",
     "text": [
      "/home/buyun/anaconda3/envs/cuosqp_pygranso/lib/python3.9/site-packages/osqp/utils.py:122: UserWarning: Converting sparse A to a CSC (compressed sparse column) matrix. (It may take a while...)\n",
      "  warn(\"Converting sparse A to a CSC \" +\n",
      "/home/buyun/Documents/GitHub/PyGRANSO/private/bfgsHessianInverseLimitedMem.py:106: UserWarning: To copy construct from a tensor, it is recommended to use sourceTensor.clone().detach() or sourceTensor.clone().detach().requires_grad_(True), rather than torch.tensor(sourceTensor).\n",
      "  self.rho = torch.hstack((self.rho[:,1:], torch.tensor(rho_new)))\n"
     ]
    },
    {
     "name": "stdout",
     "output_type": "stream",
     "text": [
      "═════╬═══════════════════════════╬════════════════╬═════════════════╬═══════════════════════╬════════════════════╣\n",
      "     ║ <--- Penalty Function --> ║                ║ Total Violation ║ <--- Line Search ---> ║ <- Stationarity -> ║ \n",
      "Iter ║    Mu    │      Value     ║    Objective   ║   Ineq   │  Eq  ║ SD │ Evals │     t    ║ Grads │    Value   ║ \n",
      "═════╬═══════════════════════════╬════════════════╬═════════════════╬═══════════════════════╬════════════════════╣\n",
      "  20 ║ 0.071790 │  0.00615860430 ║  0.08578662152 ║ 0.000000 │   -  ║ S  │    19 │ 3.81e-06 ║     1 │ 5.03e-07   ║ \n",
      "  21 ║ 0.064611 │  0.00554274069 ║  0.08578657231 ║ 0.000000 │   -  ║ S  │     2 │ 0.500000 ║     1 │ 2.34e-07   ║ \n",
      "  22 ║ 0.064611 │  0.00554273453 ║  0.08578645134 ║ 1.66e-09 │   -  ║ S  │     1 │ 1.000000 ║     1 │ 3.02e-09   ║ \n",
      "═════╩═══════════════════════════╩════════════════╩═════════════════╩═══════════════════════╩════════════════════╣\n",
      "Optimization results:                                                                                            ║ \n",
      "F = final iterate, B = Best (to tolerance), MF = Most Feasible                                                   ║ \n",
      "═════╦═══════════════════════════╦════════════════╦═════════════════╦═══════════════════════╦════════════════════╣\n",
      "   F ║          │                ║  0.08578645134 ║ 1.66e-09 │   -  ║    │       │          ║       │            ║ \n",
      "   B ║          │                ║  0.08578645134 ║ 1.66e-09 │   -  ║    │       │          ║       │            ║ \n",
      "  MF ║          │                ║  0.08578657231 ║ 0.000000 │   -  ║    │       │          ║       │            ║ \n",
      "═════╩═══════════════════════════╩════════════════╩═════════════════╩═══════════════════════╩════════════════════╣\n",
      "Iterations:              22                                                                                      ║ \n",
      "Function evaluations:    85                                                                                      ║ \n",
      "PyGRANSO termination code: 0 --- converged to stationarity and feasibility tolerances.                           ║ \n",
      "═════════════════════════════════════════════════════════════════════════════════════════════════════════════════╝\n",
      "Total Wall Time: 0.2932314872741699s\n",
      "tensor([[0.7071],\n",
      "        [0.5000]], dtype=torch.float64)\n"
     ]
    }
   ],
   "source": [
    "# Please read the documentation on https://pygranso.readthedocs.io/en/latest/\n",
    "\n",
    "# device = torch.device('cuda')\n",
    "device = torch.device('cpu')\n",
    "\n",
    "# variables and corresponding dimensions.\n",
    "var_in = {\"x1\": (1,1), \"x2\": (1,1)}\n",
    "\n",
    "# user defined options\n",
    "opts = Options()\n",
    "opts.QPsolver = 'osqp'\n",
    "opts.maxit = 1000\n",
    "opts.print_level = 1\n",
    "opts.print_frequency = 1\n",
    "opts.x0 = 0.5*torch.ones((2,1), device=device, dtype=torch.double)\n",
    "opts.limited_mem_size = 1\n",
    "\n",
    "#  main algorithm  \n",
    "start = time.time()\n",
    "soln = pygranso(var_dim_map = var_in, torch_device=device, user_opts = opts)\n",
    "end = time.time()\n",
    "print(\"Total Wall Time: {}s\".format(end - start))\n",
    "\n",
    "print(soln.final.x)"
   ]
  }
 ],
 "metadata": {
  "kernelspec": {
   "display_name": "Python 3 (ipykernel)",
   "language": "python",
   "name": "python3"
  },
  "language_info": {
   "codemirror_mode": {
    "name": "ipython",
    "version": 3
   },
   "file_extension": ".py",
   "mimetype": "text/x-python",
   "name": "python",
   "nbconvert_exporter": "python",
   "pygments_lexer": "ipython3",
   "version": "3.9.7"
  }
 },
 "nbformat": 4,
 "nbformat_minor": 5
}
